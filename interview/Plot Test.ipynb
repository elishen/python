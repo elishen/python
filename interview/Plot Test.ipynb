{
 "cells": [
  {
   "cell_type": "code",
   "execution_count": 43,
   "metadata": {
    "collapsed": false
   },
   "outputs": [
    {
     "data": {
      "text/html": [
       "\n",
       "           <script>\n",
       "               \n",
       "                function vct_load_lib(url, callback){\n",
       "                      if(typeof d3 !== 'undefined' &&\n",
       "                         url === 'http://d3js.org/d3.v3.min.js'){\n",
       "                        callback()\n",
       "                      }\n",
       "                      var s = document.createElement('script');\n",
       "                      s.src = url;\n",
       "                      s.async = true;\n",
       "                      s.onreadystatechange = s.onload = callback;\n",
       "                      s.onerror = function(){\n",
       "                        console.warn(\"failed to load library \" + url);\n",
       "                        };\n",
       "                      document.getElementsByTagName(\"head\")[0].appendChild(s);\n",
       "                };\n",
       "                var vincent_event = new CustomEvent(\n",
       "                  \"vincent_libs_loaded\",\n",
       "                  {bubbles: true, cancelable: true}\n",
       "                );\n",
       "                \n",
       "               function load_all_libs(){\n",
       "                  console.log('Loading Vincent libs...')\n",
       "                  vct_load_lib('http://d3js.org/d3.v3.min.js', function(){\n",
       "                  vct_load_lib('http://d3js.org/d3.geo.projection.v0.min.js', function(){\n",
       "                  vct_load_lib('http://wrobstory.github.io/d3-cloud/d3.layout.cloud.js', function(){\n",
       "                  vct_load_lib('http://wrobstory.github.io/vega/vega.v1.3.3.js', function(){\n",
       "                  window.dispatchEvent(vincent_event);\n",
       "                  });\n",
       "                  });\n",
       "                  });\n",
       "                  });\n",
       "               };\n",
       "               if(typeof define === \"function\" && define.amd){\n",
       "                    if (window['d3'] === undefined ||\n",
       "                        window['topojson'] === undefined){\n",
       "                        require.config(\n",
       "                            {paths: {\n",
       "                              d3: 'http://d3js.org/d3.v3.min',\n",
       "                              topojson: 'http://d3js.org/topojson.v1.min'\n",
       "                              }\n",
       "                            }\n",
       "                          );\n",
       "                        require([\"d3\"], function(d3){\n",
       "                            console.log('Loading Vincent from require.js...')\n",
       "                            window.d3 = d3;\n",
       "                            require([\"topojson\"], function(topojson){\n",
       "                                window.topojson = topojson;\n",
       "                                load_all_libs();\n",
       "                            });\n",
       "                        });\n",
       "                    } else {\n",
       "                        load_all_libs();\n",
       "                    };\n",
       "               }else{\n",
       "                    console.log('Require.js not found, loading manually...')\n",
       "                    load_all_libs();\n",
       "               };\n",
       "\n",
       "           </script>"
      ],
      "text/plain": [
       "<IPython.core.display.HTML object>"
      ]
     },
     "metadata": {},
     "output_type": "display_data"
    }
   ],
   "source": [
    "import pandas as pd \n",
    "import numpy as np \n",
    "import matplotlib.pyplot as plt\n",
    "import vincent \n",
    "\n",
    "%matplotlib inline \n",
    "\n",
    "vincent.core.initialize_notebook()"
   ]
  },
  {
   "cell_type": "code",
   "execution_count": null,
   "metadata": {
    "collapsed": true
   },
   "outputs": [],
   "source": []
  },
  {
   "cell_type": "code",
   "execution_count": 11,
   "metadata": {
    "collapsed": false
   },
   "outputs": [
    {
     "data": {
      "text/plain": [
       "<matplotlib.axes._subplots.AxesSubplot at 0x114aa7358>"
      ]
     },
     "execution_count": 11,
     "metadata": {},
     "output_type": "execute_result"
    },
    {
     "data": {
      "image/png": "[encoded data removed]",
      "text/plain": [
       "<matplotlib.figure.Figure at 0x1152db048>"
      ]
     },
     "metadata": {},
     "output_type": "display_data"
    }
   ],
   "source": [
    "df = pd.DataFrame({'x': list(range(-10, 10))})\n",
    "df['y'] = (df['x']*4 + 33)/5.0\n",
    "\n",
    "df['y'].plot()\n",
    "\n"
   ]
  },
  {
   "cell_type": "code",
   "execution_count": null,
   "metadata": {
    "collapsed": true
   },
   "outputs": [],
   "source": []
  },
  {
   "cell_type": "code",
   "execution_count": 49,
   "metadata": {
    "collapsed": false,
    "scrolled": true
   },
   "outputs": [],
   "source": [
    "del data \n",
    "data = {'x': list(range(0, 15))}\n",
    "data['y1'] = [(x * 4 + 33)/5.0 for x in data['x']]\n",
    "data['y2'] = [(x * 20 - 107)/9.0 for x in data['x']]"
   ]
  },
  {
   "cell_type": "code",
   "execution_count": 50,
   "metadata": {
    "collapsed": false
   },
   "outputs": [
    {
     "data": {
      "text/html": [
       "<div id=\"vis3ba5404aa9674db0bc090574373668af\"></div>\n",
       "<script>\n",
       "   ( function() {\n",
       "     var _do_plot = function() {\n",
       "       if (typeof vg === 'undefined') {\n",
       "         window.addEventListener('vincent_libs_loaded', _do_plot)\n",
       "         return;\n",
       "       }\n",
       "       vg.parse.spec({\"axes\": [{\"scale\": \"x\", \"type\": \"x\"}, {\"scale\": \"y\", \"type\": \"y\"}], \"data\": [{\"name\": \"table\", \"values\": [{\"col\": \"y1\", \"idx\": 0, \"val\": 6.6}, {\"col\": \"y1\", \"idx\": 1, \"val\": 7.4}, {\"col\": \"y1\", \"idx\": 2, \"val\": 8.2}, {\"col\": \"y1\", \"idx\": 3, \"val\": 9.0}, {\"col\": \"y1\", \"idx\": 4, \"val\": 9.8}, {\"col\": \"y1\", \"idx\": 5, \"val\": 10.6}, {\"col\": \"y1\", \"idx\": 6, \"val\": 11.4}, {\"col\": \"y1\", \"idx\": 7, \"val\": 12.2}, {\"col\": \"y1\", \"idx\": 8, \"val\": 13.0}, {\"col\": \"y1\", \"idx\": 9, \"val\": 13.8}, {\"col\": \"y1\", \"idx\": 10, \"val\": 14.6}, {\"col\": \"y1\", \"idx\": 11, \"val\": 15.4}, {\"col\": \"y1\", \"idx\": 12, \"val\": 16.2}, {\"col\": \"y1\", \"idx\": 13, \"val\": 17.0}, {\"col\": \"y1\", \"idx\": 14, \"val\": 17.8}, {\"col\": \"y2\", \"idx\": 0, \"val\": -11.88888888888889}, {\"col\": \"y2\", \"idx\": 1, \"val\": -9.666666666666666}, {\"col\": \"y2\", \"idx\": 2, \"val\": -7.444444444444445}, {\"col\": \"y2\", \"idx\": 3, \"val\": -5.222222222222222}, {\"col\": \"y2\", \"idx\": 4, \"val\": -3.0}, {\"col\": \"y2\", \"idx\": 5, \"val\": -0.7777777777777778}, {\"col\": \"y2\", \"idx\": 6, \"val\": 1.4444444444444444}, {\"col\": \"y2\", \"idx\": 7, \"val\": 3.6666666666666665}, {\"col\": \"y2\", \"idx\": 8, \"val\": 5.888888888888889}, {\"col\": \"y2\", \"idx\": 9, \"val\": 8.11111111111111}, {\"col\": \"y2\", \"idx\": 10, \"val\": 10.333333333333334}, {\"col\": \"y2\", \"idx\": 11, \"val\": 12.555555555555555}, {\"col\": \"y2\", \"idx\": 12, \"val\": 14.777777777777779}, {\"col\": \"y2\", \"idx\": 13, \"val\": 17.0}, {\"col\": \"y2\", \"idx\": 14, \"val\": 19.22222222222222}]}], \"height\": 500, \"legends\": [{\"fill\": \"color\", \"offset\": 0, \"properties\": {}, \"title\": \"Categories\"}], \"marks\": [{\"from\": {\"data\": \"table\", \"transform\": [{\"keys\": [\"data.col\"], \"type\": \"facet\"}]}, \"marks\": [{\"properties\": {\"enter\": {\"stroke\": {\"field\": \"data.col\", \"scale\": \"color\"}, \"strokeWidth\": {\"value\": 2}, \"x\": {\"field\": \"data.idx\", \"scale\": \"x\"}, \"y\": {\"field\": \"data.val\", \"scale\": \"y\"}}}, \"type\": \"line\"}], \"type\": \"group\"}], \"padding\": \"auto\", \"scales\": [{\"domain\": {\"data\": \"table\", \"field\": \"data.idx\"}, \"name\": \"x\", \"range\": \"width\", \"type\": \"linear\"}, {\"domain\": {\"data\": \"table\", \"field\": \"data.val\"}, \"name\": \"y\", \"nice\": true, \"range\": \"height\"}, {\"domain\": {\"data\": \"table\", \"field\": \"data.col\"}, \"name\": \"color\", \"range\": \"category20\", \"type\": \"ordinal\"}], \"width\": 960}, function(chart) {\n",
       "         chart({el: \"#vis3ba5404aa9674db0bc090574373668af\"}).update();\n",
       "       });\n",
       "     };\n",
       "     _do_plot();\n",
       "   })();\n",
       "</script>\n",
       "<style>.vega canvas {width: 100%;}</style>\n",
       "        "
      ],
      "text/plain": [
       "<IPython.core.display.HTML object>"
      ]
     },
     "metadata": {},
     "output_type": "display_data"
    }
   ],
   "source": [
    "lines = vincent.Line(data, iter_idx='x')\n",
    "lines.legend(title='Categories')\n",
    "lines.display()\n"
   ]
  },
  {
   "cell_type": "code",
   "execution_count": 23,
   "metadata": {
    "collapsed": false
   },
   "outputs": [
    {
     "data": {
      "text/html": [
       "<div id=\"vis793831e4969d4d29b4433d2781892fc0\"></div>\n",
       "<script>\n",
       "   ( function() {\n",
       "     var _do_plot = function() {\n",
       "       if (typeof vg === 'undefined') {\n",
       "         window.addEventListener('vincent_libs_loaded', _do_plot)\n",
       "         return;\n",
       "       }\n",
       "       vg.parse.spec({\"axes\": [{\"scale\": \"x\", \"title\": \"Index\", \"type\": \"x\"}, {\"scale\": \"y\", \"title\": \"Data Value\", \"type\": \"y\"}], \"data\": [{\"name\": \"table\", \"values\": [{\"col\": \"y\", \"idx\": null, \"val\": -1.4}, {\"col\": \"y\", \"idx\": null, \"val\": -0.6}, {\"col\": \"y\", \"idx\": null, \"val\": 0.2}, {\"col\": \"y\", \"idx\": null, \"val\": 1.0}, {\"col\": \"y\", \"idx\": null, \"val\": 1.8}, {\"col\": \"y\", \"idx\": null, \"val\": 2.6}, {\"col\": \"y\", \"idx\": null, \"val\": 3.4}, {\"col\": \"y\", \"idx\": null, \"val\": 4.2}, {\"col\": \"y\", \"idx\": null, \"val\": 5.0}, {\"col\": \"y\", \"idx\": null, \"val\": 5.8}, {\"col\": \"y\", \"idx\": null, \"val\": 6.6}, {\"col\": \"y\", \"idx\": null, \"val\": 7.4}, {\"col\": \"y\", \"idx\": null, \"val\": 8.2}, {\"col\": \"y\", \"idx\": null, \"val\": 9.0}, {\"col\": \"y\", \"idx\": null, \"val\": 9.8}, {\"col\": \"y\", \"idx\": null, \"val\": 10.6}, {\"col\": \"y\", \"idx\": null, \"val\": 11.4}, {\"col\": \"y\", \"idx\": null, \"val\": 12.2}, {\"col\": \"y\", \"idx\": null, \"val\": 13.0}, {\"col\": \"y\", \"idx\": null, \"val\": 13.8}]}], \"height\": 500, \"legends\": [{\"fill\": \"color\", \"offset\": 0, \"properties\": {}, \"title\": \"Categories\"}], \"marks\": [{\"from\": {\"data\": \"table\", \"transform\": [{\"keys\": [\"data.col\"], \"type\": \"facet\"}]}, \"marks\": [{\"properties\": {\"enter\": {\"fill\": {\"field\": \"data.col\", \"scale\": \"color\"}, \"size\": {\"value\": 100}, \"x\": {\"field\": \"data.idx\", \"scale\": \"x\"}, \"y\": {\"field\": \"data.val\", \"scale\": \"y\"}}}, \"type\": \"symbol\"}], \"type\": \"group\"}], \"padding\": \"auto\", \"scales\": [{\"domain\": {\"data\": \"table\", \"field\": \"data.idx\"}, \"name\": \"x\", \"range\": \"width\", \"type\": \"linear\"}, {\"domain\": {\"data\": \"table\", \"field\": \"data.val\"}, \"name\": \"y\", \"nice\": true, \"range\": \"height\"}, {\"domain\": {\"data\": \"table\", \"field\": \"data.col\"}, \"name\": \"color\", \"range\": [\"#66c2a5\", \"#fc8d62\", \"#8da0cb\", \"#e78ac3\", \"#a6d854\", \"#ffd92f\", \"#e5c494\", \"#b3b3b3\"], \"type\": \"ordinal\"}], \"width\": 960}, function(chart) {\n",
       "         chart({el: \"#vis793831e4969d4d29b4433d2781892fc0\"}).update();\n",
       "       });\n",
       "     };\n",
       "     _do_plot();\n",
       "   })();\n",
       "</script>\n",
       "<style>.vega canvas {width: 100%;}</style>\n",
       "        "
      ],
      "text/plain": [
       "<vincent.charts.Scatter at 0x1152ec4a8>"
      ]
     },
     "execution_count": 23,
     "metadata": {},
     "output_type": "execute_result"
    }
   ],
   "source": [
    "scatter = vincent.Scatter(df, iter_idx='x')\n",
    "scatter.axis_titles(x='Index', y='Data Value')\n",
    "scatter.legend(title='Categories')\n",
    "scatter.colors(brew='Set2')\n"
   ]
  },
  {
   "cell_type": "code",
   "execution_count": 17,
   "metadata": {
    "collapsed": false
   },
   "outputs": [
    {
     "data": {
      "text/plain": [
       "[<matplotlib.lines.Line2D at 0x11547e748>]"
      ]
     },
     "execution_count": 17,
     "metadata": {},
     "output_type": "execute_result"
    },
    {
     "data": {
      "image/png": "[encoded data removed]",
      "text/plain": [
       "<matplotlib.figure.Figure at 0x1152ec8d0>"
      ]
     },
     "metadata": {},
     "output_type": "display_data"
    }
   ],
   "source": [
    "plt.plot(df.x, df.y, 'ro')"
   ]
  },
  {
   "cell_type": "code",
   "execution_count": null,
   "metadata": {
    "collapsed": true
   },
   "outputs": [],
   "source": []
  }
 ],
 "metadata": {
  "kernelspec": {
   "display_name": "Python 3",
   "language": "python",
   "name": "python3"
  },
  "language_info": {
   "codemirror_mode": {
    "name": "ipython",
    "version": 3
   },
   "file_extension": ".py",
   "mimetype": "text/x-python",
   "name": "python",
   "nbconvert_exporter": "python",
   "pygments_lexer": "ipython3",
   "version": "3.5.2"
  }
 },
 "nbformat": 4,
 "nbformat_minor": 0
}
