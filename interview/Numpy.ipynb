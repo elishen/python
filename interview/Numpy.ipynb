{
 "cells": [
  {
   "cell_type": "code",
   "execution_count": 26,
   "metadata": {
    "collapsed": false
   },
   "outputs": [
    {
     "data": {
      "text/plain": [
       "array([ 13.,  17.])"
      ]
     },
     "execution_count": 26,
     "metadata": {},
     "output_type": "execute_result"
    }
   ],
   "source": [
    "import numpy as np\n",
    "import math \n",
    "a = np.array([[4,-5], [20, -9]])\n",
    "b = np.array([-33, 107])\n",
    "x = np.linalg.solve(a, b)\n",
    "\n",
    "x\n"
   ]
  },
  {
   "cell_type": "code",
   "execution_count": 9,
   "metadata": {
    "collapsed": false
   },
   "outputs": [
    {
     "data": {
      "text/plain": [
       "0.0098153286286453336"
      ]
     },
     "execution_count": 9,
     "metadata": {},
     "output_type": "execute_result"
    }
   ],
   "source": [
    "from scipy.stats import norm\n",
    "\n",
    "norm.cdf((9800-(49*205))*1.0/(7*15))"
   ]
  },
  {
   "cell_type": "code",
   "execution_count": 71,
   "metadata": {
    "collapsed": false
   },
   "outputs": [
    {
     "data": {
      "text/plain": [
       "2.5758293035489004"
      ]
     },
     "execution_count": 71,
     "metadata": {},
     "output_type": "execute_result"
    }
   ],
   "source": [
    "norm.ppf(0.995)"
   ]
  },
  {
   "cell_type": "code",
   "execution_count": 11,
   "metadata": {
    "collapsed": false
   },
   "outputs": [
    {
     "data": {
      "text/plain": [
       "0.69146246127401312"
      ]
     },
     "execution_count": 11,
     "metadata": {},
     "output_type": "execute_result"
    }
   ],
   "source": [
    "norm.cdf(10.0/20)"
   ]
  },
  {
   "cell_type": "code",
   "execution_count": 23,
   "metadata": {
    "collapsed": false
   },
   "outputs": [
    {
     "name": "stdout",
     "output_type": "stream",
     "text": [
      "0.7887\n"
     ]
    }
   ],
   "source": [
    "print('%.4f'%((norm.cdf(1000.0/800)-.5)*2))"
   ]
  },
  {
   "cell_type": "code",
   "execution_count": 24,
   "metadata": {
    "collapsed": false
   },
   "outputs": [
    {
     "name": "stdout",
     "output_type": "stream",
     "text": [
      "0.7887\n"
     ]
    }
   ],
   "source": [
    "print('%.4f'%((norm.cdf(1000.0/800)-.5)*2))"
   ]
  },
  {
   "cell_type": "code",
   "execution_count": 31,
   "metadata": {
    "collapsed": false
   },
   "outputs": [
    {
     "name": "stdout",
     "output_type": "stream",
     "text": [
      "190.9760\n",
      "224.1000\n"
     ]
    }
   ],
   "source": [
    "print(\"%.4f\"%(160 + 40 * 0.88**2))\n",
    "print(\"%.4f\"%(128 + 40 * 1.55**2))"
   ]
  },
  {
   "cell_type": "code",
   "execution_count": 70,
   "metadata": {
    "collapsed": false
   },
   "outputs": [
    {
     "name": "stdout",
     "output_type": "stream",
     "text": [
      "266 0.98579\n",
      "267 0.98737\n",
      "268 0.98875\n",
      "269 0.98995\n",
      "270 0.99115\n",
      "271 0.99205\n",
      "272 0.99286\n",
      "273 0.99365\n",
      "274 0.99441\n",
      "275 0.99494\n"
     ]
    }
   ],
   "source": [
    "count = [0] * 401\n",
    "\n",
    "k_run = 100000\n",
    "\n",
    "for i in range(k_run):\n",
    "    outcome = np.random.randint(1, 21, 20).sum()\n",
    "    count[outcome] += 1\n",
    "    \n",
    "acc_run = 0 \n",
    "\n",
    "for i in range(401):\n",
    "    acc_run += count[i]\n",
    "    pct = acc_run*1.0/k_run\n",
    "    if (pct > 0.985 and pct < 0.995):\n",
    "        print(i, acc_run*1.0/k_run)\n"
   ]
  },
  {
   "cell_type": "code",
   "execution_count": 80,
   "metadata": {
    "collapsed": false
   },
   "outputs": [
    {
     "data": {
      "text/plain": [
       "5.766281297335398"
      ]
     },
     "execution_count": 80,
     "metadata": {},
     "output_type": "execute_result"
    }
   ],
   "source": [
    "(sum(list((x-10.5)**2 for x in range(1, 21)))/20.0)**(0.5)"
   ]
  },
  {
   "cell_type": "code",
   "execution_count": 73,
   "metadata": {
    "collapsed": false,
    "scrolled": true
   },
   "outputs": [
    {
     "name": "stdout",
     "output_type": "stream",
     "text": [
      "10.5 33.25 5.766281297335398\n"
     ]
    },
    {
     "data": {
      "text/plain": [
       "269.99091428417421"
      ]
     },
     "execution_count": 73,
     "metadata": {},
     "output_type": "execute_result"
    }
   ],
   "source": [
    "# variance of 20-sided die\n",
    "\n",
    "n = 20 \n",
    "mu = (1+n)/2.0 \n",
    "\n",
    "ss = 0\n",
    "for i in range(1, 21):\n",
    "    ss += (i-mu)**2 \n",
    "    \n",
    "var = ss*1.0 / n \n",
    "sd = math.sqrt(var)\n",
    "print(mu, var, sd )\n",
    "\n",
    "mu * 20 + sd * norm.ppf(0.99) * math.sqrt(20)\n"
   ]
  },
  {
   "cell_type": "code",
   "execution_count": 87,
   "metadata": {
    "collapsed": false
   },
   "outputs": [
    {
     "name": "stdout",
     "output_type": "stream",
     "text": [
      "0.217\n",
      "0.879\n",
      "0.013\n",
      "1.000\n"
     ]
    }
   ],
   "source": [
    "# Enter your code here. Read input from STDIN. Print output to STDOUT\n",
    "\n",
    "import math \n",
    "\n",
    "L=1.2\n",
    "print(\"%0.3f\"%((math.exp(-L)*pow(L, 2))/2.0))\n",
    "\n",
    "K=0\n",
    "p0=(math.exp(-L)*pow(L, K))*1.0/math.factorial(K)\n",
    "K=1\n",
    "p1=(math.exp(-L)*pow(L, K))*1.0/math.factorial(K)\n",
    "K=2\n",
    "p2=(math.exp(-L)*pow(L, K))*1.0/math.factorial(K)\n",
    "print(\"%0.3f\"%(p0+p1+p2))\n",
    "\n",
    "L=1.2*10\n",
    "K=5\n",
    "p5=(math.exp(-L)*pow(L, K))*1.0/math.factorial(K)\n",
    "print(\"%0.3f\"%(p5))\n",
    "\n",
    "L=1.2*40\n",
    "K=0\n",
    "p0=(math.exp(-L)*pow(L, K))*1.0/math.factorial(K)\n",
    "K=1\n",
    "p1=(math.exp(-L)*pow(L, K))*1.0/math.factorial(K)\n",
    "K=2\n",
    "p2=(math.exp(-L)*pow(L, K))*1.0/math.factorial(K)\n",
    "\n",
    "print(\"%0.3f\"%(1-p0-p1-p2))\n"
   ]
  },
  {
   "cell_type": "code",
   "execution_count": 99,
   "metadata": {
    "collapsed": false
   },
   "outputs": [
    {
     "ename": "TypeError",
     "evalue": "'float' object is not callable",
     "output_type": "error",
     "traceback": [
      "\u001b[0;31m---------------------------------------------------------------------------\u001b[0m",
      "\u001b[0;31mTypeError\u001b[0m                                 Traceback (most recent call last)",
      "\u001b[0;32m<ipython-input-99-01ca8a099fc6>\u001b[0m in \u001b[0;36m<module>\u001b[0;34m()\u001b[0m\n\u001b[1;32m      4\u001b[0m \u001b[0msum\u001b[0m\u001b[0;34m(\u001b[0m\u001b[0mss\u001b[0m\u001b[0;34m)\u001b[0m \u001b[0;34m/\u001b[0m \u001b[0;36m3.0\u001b[0m \u001b[0;34m*\u001b[0m \u001b[0;36m4.0\u001b[0m\u001b[0;34m\u001b[0m\u001b[0m\n\u001b[1;32m      5\u001b[0m \u001b[0;34m\u001b[0m\u001b[0m\n\u001b[0;32m----> 6\u001b[0;31m \u001b[0msd\u001b[0m\u001b[0;34m(\u001b[0m\u001b[0mlst\u001b[0m\u001b[0;34m)\u001b[0m\u001b[0;34m\u001b[0m\u001b[0m\n\u001b[0m",
      "\u001b[0;31mTypeError\u001b[0m: 'float' object is not callable"
     ]
    }
   ],
   "source": [
    "lst = list(range(1, 4))\n",
    "ss = [(x-2)**2 for x in lst]\n",
    "\n",
    "sum(ss) / 3.0 * 4.0\n",
    "sd(lst)\n"
   ]
  },
  {
   "cell_type": "code",
   "execution_count": 100,
   "metadata": {
    "collapsed": false
   },
   "outputs": [
    {
     "data": {
      "text/plain": [
       "0.81649658092772603"
      ]
     },
     "execution_count": 100,
     "metadata": {},
     "output_type": "execute_result"
    }
   ],
   "source": [
    "np.std(lst)"
   ]
  },
  {
   "cell_type": "code",
   "execution_count": 109,
   "metadata": {
    "collapsed": false
   },
   "outputs": [
    {
     "data": {
      "text/plain": [
       "2.942809041582063"
      ]
     },
     "execution_count": 109,
     "metadata": {},
     "output_type": "execute_result"
    }
   ],
   "source": [
    "dec=0.1\n",
    "n = 8 \n",
    "\n",
    "n = ((36*8)**(0.5)+36)/18.0        \n",
    "n"
   ]
  },
  {
   "cell_type": "code",
   "execution_count": 108,
   "metadata": {
    "collapsed": false
   },
   "outputs": [
    {
     "data": {
      "text/plain": [
       "0.81649658092772603"
      ]
     },
     "execution_count": 108,
     "metadata": {},
     "output_type": "execute_result"
    }
   ],
   "source": [
    "np.std(lst)"
   ]
  },
  {
   "cell_type": "code",
   "execution_count": 110,
   "metadata": {
    "collapsed": false
   },
   "outputs": [
    {
     "data": {
      "text/plain": [
       "-1.9599639845400545"
      ]
     },
     "execution_count": 110,
     "metadata": {},
     "output_type": "execute_result"
    }
   ],
   "source": [
    "norm.ppf(0.025)"
   ]
  },
  {
   "cell_type": "code",
   "execution_count": 114,
   "metadata": {
    "collapsed": false
   },
   "outputs": [
    {
     "name": "stdout",
     "output_type": "stream",
     "text": [
      "515.68\n",
      "484.32\n"
     ]
    }
   ],
   "source": [
    "n1 = 500-8*norm.ppf(0.025)\n",
    "n2 = 500+8*norm.ppf(0.025)\n",
    "\n",
    "print(\"%0.2f\\n%0.2f\"%(n1, n2))"
   ]
  },
  {
   "cell_type": "code",
   "execution_count": 117,
   "metadata": {
    "collapsed": false
   },
   "outputs": [
    {
     "data": {
      "text/plain": [
       "0.26331006880493429"
      ]
     },
     "execution_count": 117,
     "metadata": {},
     "output_type": "execute_result"
    }
   ],
   "source": [
    "norm.cdf((50*11 - (74+47*11-20)) / (11**(0.5)*10))"
   ]
  },
  {
   "cell_type": "code",
   "execution_count": 126,
   "metadata": {
    "collapsed": false
   },
   "outputs": [
    {
     "data": {
      "text/plain": [
       "7857.3266580674253"
      ]
     },
     "execution_count": 126,
     "metadata": {},
     "output_type": "execute_result"
    }
   ],
   "source": [
    "(1-norm.ppf(0.005)*(11**(0.5)*10))/11*1000"
   ]
  },
  {
   "cell_type": "code",
   "execution_count": 133,
   "metadata": {
    "collapsed": false
   },
   "outputs": [
    {
     "data": {
      "text/plain": [
       "52854.82621378651"
      ]
     },
     "execution_count": 133,
     "metadata": {},
     "output_type": "execute_result"
    }
   ],
   "source": [
    "(550+20-74+(2.575)*(11**(0.5)*10))/11*1000"
   ]
  },
  {
   "cell_type": "code",
   "execution_count": 139,
   "metadata": {
    "collapsed": false
   },
   "outputs": [
    {
     "name": "stdout",
     "output_type": "stream",
     "text": [
      "52854.8\n"
     ]
    }
   ],
   "source": [
    "k = 11\n",
    "sig = pow(k, 0.5)*10\n",
    "mu = 50*k\n",
    "\n",
    "p = (2.575*sig-74+20+mu)/11\n",
    "\n",
    "print(\"%.1f\"%(p*1000))"
   ]
  },
  {
   "cell_type": "code",
   "execution_count": 170,
   "metadata": {
    "collapsed": false
   },
   "outputs": [
    {
     "name": "stdout",
     "output_type": "stream",
     "text": [
      "119.2 117.0 15.1726068953\n"
     ]
    },
    {
     "data": {
      "text/plain": [
       "0.14499815458068538"
      ]
     },
     "execution_count": 170,
     "metadata": {},
     "output_type": "execute_result"
    }
   ],
   "source": [
    "lst1=[15, 12,  8 ,  8 ,  7  , 7  , 7 ,  6 ,  5 ,  3]\n",
    "lst2=[10 , 25 , 17  ,11,  13 , 17 , 20 , 13  ,9  , 15]\n",
    "\n",
    "mu1 = np.mean(lst1)\n",
    "mu2 = np.mean(lst2)\n",
    "\n",
    "sd1 = np.std(lst1)\n",
    "sd2 = np.std(lst2)\n",
    "\n",
    "lst_cov = [ x[0]*x[1] for x in zip(lst1, lst2)]\n",
    "cov = np.mean(lst_cov) - mu1 * mu2\n",
    "corr = cov / (sd1 * sd2)\n",
    "\n",
    "np.corrcoef(lst1, lst2)\n",
    "\n",
    "print(np.mean(lst_cov), mu1*mu2, sd1 * sd2)\n",
    "cov / (sd1 * sd2)\n",
    "\n",
    "lst_mu1 = [(x-mu1) for x in lst1]\n",
    "lst_mu2 = [(x-mu2) for x in lst2]\n",
    "\n",
    "np.mean([x[0]*x[1] for x in zip(lst_mu1, lst_mu2)]) / (sd1 * sd2)\n",
    "\n",
    "np.mean([x[0]*x[1] for x in zip(lst_mu1, lst_mu2)])\n",
    "corr"
   ]
  },
  {
   "cell_type": "code",
   "execution_count": 173,
   "metadata": {
    "collapsed": false
   },
   "outputs": [
    {
     "name": "stdout",
     "output_type": "stream",
     "text": [
      "1 2 3 \n"
     ]
    },
    {
     "data": {
      "text/plain": [
       "[1, 2, 3]"
      ]
     },
     "execution_count": 173,
     "metadata": {},
     "output_type": "execute_result"
    }
   ],
   "source": [
    "[int(x) for x in input().strip().split()]"
   ]
  }
 ],
 "metadata": {
  "kernelspec": {
   "display_name": "Python 3",
   "language": "python",
   "name": "python3"
  },
  "language_info": {
   "codemirror_mode": {
    "name": "ipython",
    "version": 3
   },
   "file_extension": ".py",
   "mimetype": "text/x-python",
   "name": "python",
   "nbconvert_exporter": "python",
   "pygments_lexer": "ipython3",
   "version": "3.5.2"
  }
 },
 "nbformat": 4,
 "nbformat_minor": 0
}
