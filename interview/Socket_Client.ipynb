{
 "cells": [
  {
   "cell_type": "code",
   "execution_count": null,
   "metadata": {
    "collapsed": true
   },
   "outputs": [],
   "source": []
  },
  {
   "cell_type": "code",
   "execution_count": 10,
   "metadata": {
    "collapsed": false
   },
   "outputs": [
    {
     "name": "stdout",
     "output_type": "stream",
     "text": [
      "Received b'Hello, world2017-02-17 22:32:09.707271'\n"
     ]
    }
   ],
   "source": [
    "# Echo client program\n",
    "import socket\n",
    "from datetime import datetime\n",
    "\n",
    "HOST = '127.0.01'    # The remote host\n",
    "PORT = 50007              # The same port as used by the server\n",
    "s = socket.socket(socket.AF_INET, socket.SOCK_STREAM)\n",
    "s.connect((HOST, PORT))\n",
    "s.sendall(b'Hello, world')\n",
    "s.sendall(str.encode(str(datetime.now())))\n",
    "data = s.recv(1024)\n",
    "s.close()\n",
    "print ('Received', repr(data))\n"
   ]
  }
 ],
 "metadata": {
  "kernelspec": {
   "display_name": "Python 3",
   "language": "python",
   "name": "python3"
  },
  "language_info": {
   "codemirror_mode": {
    "name": "ipython",
    "version": 3
   },
   "file_extension": ".py",
   "mimetype": "text/x-python",
   "name": "python",
   "nbconvert_exporter": "python",
   "pygments_lexer": "ipython3",
   "version": "3.5.2"
  }
 },
 "nbformat": 4,
 "nbformat_minor": 0
}
