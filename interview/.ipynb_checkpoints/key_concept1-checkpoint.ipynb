{
 "cells": [
  {
   "cell_type": "markdown",
   "metadata": {},
   "source": [
    "### Try: Except: raise Finnally"
   ]
  },
  {
   "cell_type": "code",
   "execution_count": null,
   "metadata": {
    "collapsed": false
   },
   "outputs": [],
   "source": [
    "try:\n",
    "    raise NameError('HiThere')\n",
    "except NameError:\n",
    "    print('An exception flew by!')\n",
    "    raise"
   ]
  },
  {
   "cell_type": "code",
   "execution_count": 5,
   "metadata": {
    "collapsed": false
   },
   "outputs": [
    {
     "name": "stdout",
     "output_type": "stream",
     "text": [
      "My exception occurred, value: 4\n"
     ]
    }
   ],
   "source": [
    "class MyError(Exception):\n",
    "    def __init__(self, value):\n",
    "        self.value = value\n",
    "    def __str__(self):\n",
    "        return repr(self.value)\n",
    "\n",
    "try:\n",
    "    raise MyError(2*2)\n",
    "except MyError as e:\n",
    "    print ('My exception occurred, value:', e.value)\n"
   ]
  },
  {
   "cell_type": "markdown",
   "metadata": {},
   "source": [
    "### Triple "
   ]
  },
  {
   "cell_type": "code",
   "execution_count": 6,
   "metadata": {
    "collapsed": false
   },
   "outputs": [
    {
     "name": "stdout",
     "output_type": "stream",
     "text": [
      "Usage: thingy [OPTIONS]\n",
      "     -h                        Display this usage message\n",
      "     -H hostname               Hostname to connect to\n",
      "\n"
     ]
    }
   ],
   "source": [
    "print(\"\"\"\\\n",
    "Usage: thingy [OPTIONS]\n",
    "     -h                        Display this usage message\n",
    "     -H hostname               Hostname to connect to\n",
    "\"\"\")"
   ]
  },
  {
   "cell_type": "markdown",
   "metadata": {},
   "source": [
    "### Loop"
   ]
  },
  {
   "cell_type": "code",
   "execution_count": 7,
   "metadata": {
    "collapsed": false
   },
   "outputs": [
    {
     "name": "stdout",
     "output_type": "stream",
     "text": [
      "1\n",
      "2\n",
      "3\n",
      "else\n"
     ]
    }
   ],
   "source": [
    "lst = [1, 2, 3]\n",
    "\n",
    "for x in lst:\n",
    "    print(x)\n",
    "else:\n",
    "    print(\"else\")"
   ]
  },
  {
   "cell_type": "code",
   "execution_count": 11,
   "metadata": {
    "collapsed": false
   },
   "outputs": [
    {
     "name": "stdout",
     "output_type": "stream",
     "text": [
      "[1, 2, 3]\n",
      "[1, 2]\n",
      "[1]\n",
      "else\n"
     ]
    }
   ],
   "source": [
    "lst = [1, 2, 3]\n",
    "\n",
    "while (lst):\n",
    "    print(lst)\n",
    "    lst.pop()\n",
    "else:\n",
    "    print(\"else\")"
   ]
  },
  {
   "cell_type": "markdown",
   "metadata": {},
   "source": [
    "### Tuple"
   ]
  },
  {
   "cell_type": "code",
   "execution_count": 14,
   "metadata": {
    "collapsed": false
   },
   "outputs": [
    {
     "name": "stdout",
     "output_type": "stream",
     "text": [
      "a\n",
      "1\n"
     ]
    }
   ],
   "source": [
    "# Immutable\n",
    "# Uses ()\n",
    "# for single-element tuple, (1,), not (1)\n",
    "# may contain different type \n",
    "\n",
    "tpl = (\"a\", 1)\n",
    "\n",
    "for i in range(2):\n",
    "    print(tpl[i])"
   ]
  },
  {
   "cell_type": "markdown",
   "metadata": {
    "collapsed": true
   },
   "source": [
    "### True "
   ]
  },
  {
   "cell_type": "code",
   "execution_count": 15,
   "metadata": {
    "collapsed": false
   },
   "outputs": [
    {
     "name": "stdout",
     "output_type": "stream",
     "text": [
      "0:False\n",
      "[]:False\n",
      "():False\n",
      "{}:False\n",
      "None:False\n",
      "False:False\n"
     ]
    }
   ],
   "source": [
    "lst_false = (0, [], (), {}, None, False)\n",
    "\n",
    "for x in lst_false: \n",
    "    print(x, end=\":\")\n",
    "    if x:\n",
    "        print(\"True\")\n",
    "    else:\n",
    "        print(\"False\")\n",
    "\n",
    "\n"
   ]
  },
  {
   "cell_type": "markdown",
   "metadata": {},
   "source": [
    "### shortform if-else"
   ]
  },
  {
   "cell_type": "code",
   "execution_count": 18,
   "metadata": {
    "collapsed": false
   },
   "outputs": [
    {
     "name": "stdout",
     "output_type": "stream",
     "text": [
      "Positive\n"
     ]
    }
   ],
   "source": [
    "a=1\n",
    "\n",
    "b='Positive' if a>0 else 'Negative'\n",
    "\n",
    "print(b)\n"
   ]
  },
  {
   "cell_type": "code",
   "execution_count": 19,
   "metadata": {
    "collapsed": false
   },
   "outputs": [
    {
     "ename": "SyntaxError",
     "evalue": "invalid syntax (<ipython-input-19-0d9c694c0cd9>, line 1)",
     "output_type": "error",
     "traceback": [
      "\u001b[0;36m  File \u001b[0;32m\"<ipython-input-19-0d9c694c0cd9>\"\u001b[0;36m, line \u001b[0;32m1\u001b[0m\n\u001b[0;31m    if a=5:\u001b[0m\n\u001b[0m        ^\u001b[0m\n\u001b[0;31mSyntaxError\u001b[0m\u001b[0;31m:\u001b[0m invalid syntax\n"
     ]
    }
   ],
   "source": [
    "if a=5: // invalid in python3\n",
    "    print(\"True\")\n",
    "else:\n",
    "    print(\"False\")"
   ]
  },
  {
   "cell_type": "markdown",
   "metadata": {},
   "source": [
    "### string.lower(), len()"
   ]
  },
  {
   "cell_type": "code",
   "execution_count": 20,
   "metadata": {
    "collapsed": false
   },
   "outputs": [
    {
     "name": "stdout",
     "output_type": "stream",
     "text": [
      "Same\n"
     ]
    }
   ],
   "source": [
    "a=\"Test\"\n",
    "b=\"TEST\"\n",
    "\n",
    "if a.lower() == b.lower():\n",
    "    print(\"Same\")"
   ]
  },
  {
   "cell_type": "code",
   "execution_count": 21,
   "metadata": {
    "collapsed": false
   },
   "outputs": [
    {
     "name": "stdout",
     "output_type": "stream",
     "text": [
      "4\n"
     ]
    }
   ],
   "source": [
    "print(len(a))"
   ]
  },
  {
   "cell_type": "markdown",
   "metadata": {},
   "source": [
    "### dates comparison"
   ]
  },
  {
   "cell_type": "code",
   "execution_count": 26,
   "metadata": {
    "collapsed": false
   },
   "outputs": [
    {
     "name": "stdout",
     "output_type": "stream",
     "text": [
      "True\n",
      "6162 days, 17:30:55.648218\n",
      "736376\n",
      "2017-02-16 17:30:55.648218\n",
      "2017-02-06 00:00:00\n"
     ]
    }
   ],
   "source": [
    "from datetime import datetime\n",
    "past = datetime.now()\n",
    "present = datetime.now()\n",
    "print(past < present)\n",
    "\n",
    "datetime(3000, 1, 1) < present\n",
    "print(present - datetime(2000, 4, 4))\n",
    "\n",
    "print(present.toordinal())\n",
    "print(present)\n",
    "print(datetime.fromordinal(present.toordinal()-10))\n"
   ]
  },
  {
   "cell_type": "code",
   "execution_count": 34,
   "metadata": {
    "collapsed": false
   },
   "outputs": [
    {
     "name": "stdout",
     "output_type": "stream",
     "text": [
      "True\n",
      "False\n",
      "736376\n"
     ]
    }
   ],
   "source": [
    "from datetime import date\n",
    "\n",
    "d1 = date.today()\n",
    "d2 = date(2017, 2, 10)\n",
    "d3 = date(2017, 2, 20)\n",
    "\n",
    "print(d1 > d2)\n",
    "print(d1 > d3)\n",
    "\n",
    "print(d1.toordinal())\n"
   ]
  },
  {
   "cell_type": "code",
   "execution_count": 35,
   "metadata": {
    "collapsed": false
   },
   "outputs": [
    {
     "ename": "TypeError",
     "evalue": "can't compare datetime.datetime to datetime.date",
     "output_type": "error",
     "traceback": [
      "\u001b[0;31m---------------------------------------------------------------------------\u001b[0m",
      "\u001b[0;31mTypeError\u001b[0m                                 Traceback (most recent call last)",
      "\u001b[0;32m<ipython-input-35-1d6379860eb6>\u001b[0m in \u001b[0;36m<module>\u001b[0;34m()\u001b[0m\n\u001b[0;32m----> 1\u001b[0;31m \u001b[0mprint\u001b[0m\u001b[0;34m(\u001b[0m\u001b[0mpresent\u001b[0m \u001b[0;34m<\u001b[0m \u001b[0md1\u001b[0m\u001b[0;34m)\u001b[0m\u001b[0;34m\u001b[0m\u001b[0m\n\u001b[0m",
      "\u001b[0;31mTypeError\u001b[0m: can't compare datetime.datetime to datetime.date"
     ]
    }
   ],
   "source": [
    "print(present < d1)"
   ]
  },
  {
   "cell_type": "markdown",
   "metadata": {},
   "source": [
    "# String"
   ]
  },
  {
   "cell_type": "code",
   "execution_count": 36,
   "metadata": {
    "collapsed": false
   },
   "outputs": [
    {
     "data": {
      "text/plain": [
       "'\\nPresident Donald Trump Launched An Extraordinary Denunciation Thursday Of \\nHis Critics, Complaining He Inherited A \"Mess\" And Slamming Stories That His Campaign Was \\nConstantly In Contact With Russia As \"Fake News.'"
      ]
     },
     "execution_count": 36,
     "metadata": {},
     "output_type": "execute_result"
    }
   ],
   "source": [
    "a=\"\"\"President Donald Trump launched an extraordinary denunciation Thursday of \n",
    "his critics, complaining he inherited a \"mess\" and slamming stories that his campaign was \n",
    "constantly in contact with Russia as \"fake news.\"\"\"\n",
    "\n",
    "a.title()"
   ]
  },
  {
   "cell_type": "code",
   "execution_count": 39,
   "metadata": {
    "collapsed": false
   },
   "outputs": [
    {
     "name": "stdout",
     "output_type": "stream",
     "text": [
      "89 89\n",
      "-1\n"
     ]
    },
    {
     "ename": "ValueError",
     "evalue": "substring not found",
     "output_type": "error",
     "traceback": [
      "\u001b[0;31m---------------------------------------------------------------------------\u001b[0m",
      "\u001b[0;31mValueError\u001b[0m                                Traceback (most recent call last)",
      "\u001b[0;32m<ipython-input-39-ac8d30485fd4>\u001b[0m in \u001b[0;36m<module>\u001b[0;34m()\u001b[0m\n\u001b[1;32m      5\u001b[0m \u001b[0mprint\u001b[0m\u001b[0;34m(\u001b[0m\u001b[0mf1\u001b[0m\u001b[0;34m,\u001b[0m \u001b[0mf2\u001b[0m\u001b[0;34m)\u001b[0m\u001b[0;34m\u001b[0m\u001b[0m\n\u001b[1;32m      6\u001b[0m \u001b[0mprint\u001b[0m\u001b[0;34m(\u001b[0m\u001b[0mf3\u001b[0m\u001b[0;34m)\u001b[0m\u001b[0;34m\u001b[0m\u001b[0m\n\u001b[0;32m----> 7\u001b[0;31m \u001b[0mf4\u001b[0m \u001b[0;34m=\u001b[0m \u001b[0ma\u001b[0m\u001b[0;34m.\u001b[0m\u001b[0mindex\u001b[0m\u001b[0;34m(\u001b[0m\u001b[0;34m\"notfound\"\u001b[0m\u001b[0;34m)\u001b[0m\u001b[0;34m\u001b[0m\u001b[0m\n\u001b[0m\u001b[1;32m      8\u001b[0m \u001b[0mprint\u001b[0m\u001b[0;34m(\u001b[0m\u001b[0mf4\u001b[0m\u001b[0;34m)\u001b[0m\u001b[0;34m\u001b[0m\u001b[0m\n",
      "\u001b[0;31mValueError\u001b[0m: substring not found"
     ]
    }
   ],
   "source": [
    "f1 = a.find(\"complain\")\n",
    "f2 = a.index(\"complain\")\n",
    "f3 = a.find(\"notfound\")\n",
    "\n",
    "print(f1, f2)\n",
    "print(f3)\n",
    "f4 = a.index(\"notfound\")\n",
    "print(f4)"
   ]
  },
  {
   "cell_type": "code",
   "execution_count": 40,
   "metadata": {
    "collapsed": false
   },
   "outputs": [
    {
     "data": {
      "text/plain": [
       "'res'"
      ]
     },
     "execution_count": 40,
     "metadata": {},
     "output_type": "execute_result"
    }
   ],
   "source": [
    "a[2:5]"
   ]
  },
  {
   "cell_type": "code",
   "execution_count": 41,
   "metadata": {
    "collapsed": false
   },
   "outputs": [
    {
     "data": {
      "text/plain": [
       "['',\n",
       " 'President Donald Trump launched an extraordinary denunciation Thursday of ',\n",
       " 'his critics, complaining he inherited a \"mess\" and slamming stories that his campaign was ',\n",
       " 'constantly in contact with Russia as \"fake news.']"
      ]
     },
     "execution_count": 41,
     "metadata": {},
     "output_type": "execute_result"
    }
   ],
   "source": [
    "a.splitlines()"
   ]
  },
  {
   "cell_type": "code",
   "execution_count": 45,
   "metadata": {
    "collapsed": false
   },
   "outputs": [
    {
     "name": "stdout",
     "output_type": "stream",
     "text": [
      "True\n",
      "True\n"
     ]
    }
   ],
   "source": [
    "a.isalnum()\n",
    "\n",
    "print(\"test\".isalnum())\n",
    "print(\"123\".isdigit())\n"
   ]
  },
  {
   "cell_type": "code",
   "execution_count": 46,
   "metadata": {
    "collapsed": false
   },
   "outputs": [
    {
     "name": "stdout",
     "output_type": "stream",
     "text": [
      "2\n"
     ]
    }
   ],
   "source": [
    "print(a.count(\"ed\"))"
   ]
  },
  {
   "cell_type": "code",
   "execution_count": 47,
   "metadata": {
    "collapsed": false
   },
   "outputs": [
    {
     "data": {
      "text/plain": [
       "('\\nPresident Donald ',\n",
       " 'Trump',\n",
       " ' launched an extraordinary denunciation Thursday of \\nhis critics, complaining he inherited a \"mess\" and slamming stories that his campaign was \\nconstantly in contact with Russia as \"fake news.')"
      ]
     },
     "execution_count": 47,
     "metadata": {},
     "output_type": "execute_result"
    }
   ],
   "source": [
    "a.partition(\"Trump\")"
   ]
  },
  {
   "cell_type": "code",
   "execution_count": 48,
   "metadata": {
    "collapsed": false
   },
   "outputs": [
    {
     "data": {
      "text/plain": [
       "'a           b           c'"
      ]
     },
     "execution_count": 48,
     "metadata": {},
     "output_type": "execute_result"
    }
   ],
   "source": [
    "s1=\"a\\tb\\tc\"\n",
    "\n",
    "s1.expandtabs(12)\n"
   ]
  },
  {
   "cell_type": "code",
   "execution_count": 50,
   "metadata": {
    "collapsed": false
   },
   "outputs": [
    {
     "data": {
      "text/plain": [
       "'$$$$$$$$$$$$a\\tb\\tc$$$$$$$$$$$$$'"
      ]
     },
     "execution_count": 50,
     "metadata": {},
     "output_type": "execute_result"
    }
   ],
   "source": [
    "s1.center(30, '$')"
   ]
  },
  {
   "cell_type": "code",
   "execution_count": 51,
   "metadata": {
    "collapsed": false
   },
   "outputs": [
    {
     "name": "stdout",
     "output_type": "stream",
     "text": [
      "4\n"
     ]
    }
   ],
   "source": [
    "cmd1=\"print(4)\"\n",
    "exec(cmd1)\n"
   ]
  },
  {
   "cell_type": "markdown",
   "metadata": {},
   "source": [
    "### String Template"
   ]
  },
  {
   "cell_type": "code",
   "execution_count": 52,
   "metadata": {
    "collapsed": false
   },
   "outputs": [
    {
     "ename": "ValueError",
     "evalue": "Invalid placeholder in string: line 1, col 11",
     "output_type": "error",
     "traceback": [
      "\u001b[0;31m---------------------------------------------------------------------------\u001b[0m",
      "\u001b[0;31mValueError\u001b[0m                                Traceback (most recent call last)",
      "\u001b[0;32m<ipython-input-52-555a7a229b72>\u001b[0m in \u001b[0;36m<module>\u001b[0;34m()\u001b[0m\n\u001b[1;32m      3\u001b[0m \u001b[0ms\u001b[0m\u001b[0;34m.\u001b[0m\u001b[0msubstitute\u001b[0m\u001b[0;34m(\u001b[0m\u001b[0mwho\u001b[0m\u001b[0;34m=\u001b[0m\u001b[0;34m'tim'\u001b[0m\u001b[0;34m,\u001b[0m \u001b[0mwhat\u001b[0m\u001b[0;34m=\u001b[0m\u001b[0;34m'kung pao'\u001b[0m\u001b[0;34m)\u001b[0m\u001b[0;34m\u001b[0m\u001b[0m\n\u001b[1;32m      4\u001b[0m \u001b[0md\u001b[0m \u001b[0;34m=\u001b[0m \u001b[0mdict\u001b[0m\u001b[0;34m(\u001b[0m\u001b[0mwho\u001b[0m\u001b[0;34m=\u001b[0m\u001b[0;34m'tim'\u001b[0m\u001b[0;34m)\u001b[0m\u001b[0;34m\u001b[0m\u001b[0m\n\u001b[0;32m----> 5\u001b[0;31m \u001b[0mTemplate\u001b[0m\u001b[0;34m(\u001b[0m\u001b[0;34m'Give $who $100'\u001b[0m\u001b[0;34m)\u001b[0m\u001b[0;34m.\u001b[0m\u001b[0msubstitute\u001b[0m\u001b[0;34m(\u001b[0m\u001b[0md\u001b[0m\u001b[0;34m)\u001b[0m\u001b[0;34m\u001b[0m\u001b[0m\n\u001b[0m\u001b[1;32m      6\u001b[0m \u001b[0mTemplate\u001b[0m\u001b[0;34m(\u001b[0m\u001b[0;34m'$who likes $what'\u001b[0m\u001b[0;34m)\u001b[0m\u001b[0;34m.\u001b[0m\u001b[0msubstitute\u001b[0m\u001b[0;34m(\u001b[0m\u001b[0md\u001b[0m\u001b[0;34m)\u001b[0m\u001b[0;34m\u001b[0m\u001b[0m\n\u001b[1;32m      7\u001b[0m \u001b[0mTemplate\u001b[0m\u001b[0;34m(\u001b[0m\u001b[0;34m'$who likes $what'\u001b[0m\u001b[0;34m)\u001b[0m\u001b[0;34m.\u001b[0m\u001b[0msafe_substitute\u001b[0m\u001b[0;34m(\u001b[0m\u001b[0md\u001b[0m\u001b[0;34m)\u001b[0m\u001b[0;34m\u001b[0m\u001b[0m\n",
      "\u001b[0;32m/Users/shenxiabing/anaconda/lib/python3.5/string.py\u001b[0m in \u001b[0;36msubstitute\u001b[0;34m(*args, **kws)\u001b[0m\n\u001b[1;32m    127\u001b[0m             raise ValueError('Unrecognized named group in pattern',\n\u001b[1;32m    128\u001b[0m                              self.pattern)\n\u001b[0;32m--> 129\u001b[0;31m         \u001b[0;32mreturn\u001b[0m \u001b[0mself\u001b[0m\u001b[0;34m.\u001b[0m\u001b[0mpattern\u001b[0m\u001b[0;34m.\u001b[0m\u001b[0msub\u001b[0m\u001b[0;34m(\u001b[0m\u001b[0mconvert\u001b[0m\u001b[0;34m,\u001b[0m \u001b[0mself\u001b[0m\u001b[0;34m.\u001b[0m\u001b[0mtemplate\u001b[0m\u001b[0;34m)\u001b[0m\u001b[0;34m\u001b[0m\u001b[0m\n\u001b[0m\u001b[1;32m    130\u001b[0m \u001b[0;34m\u001b[0m\u001b[0m\n\u001b[1;32m    131\u001b[0m     \u001b[0;32mdef\u001b[0m \u001b[0msafe_substitute\u001b[0m\u001b[0;34m(\u001b[0m\u001b[0;34m*\u001b[0m\u001b[0margs\u001b[0m\u001b[0;34m,\u001b[0m \u001b[0;34m**\u001b[0m\u001b[0mkws\u001b[0m\u001b[0;34m)\u001b[0m\u001b[0;34m:\u001b[0m\u001b[0;34m\u001b[0m\u001b[0m\n",
      "\u001b[0;32m/Users/shenxiabing/anaconda/lib/python3.5/string.py\u001b[0m in \u001b[0;36mconvert\u001b[0;34m(mo)\u001b[0m\n\u001b[1;32m    124\u001b[0m                 \u001b[0;32mreturn\u001b[0m \u001b[0mself\u001b[0m\u001b[0;34m.\u001b[0m\u001b[0mdelimiter\u001b[0m\u001b[0;34m\u001b[0m\u001b[0m\n\u001b[1;32m    125\u001b[0m             \u001b[0;32mif\u001b[0m \u001b[0mmo\u001b[0m\u001b[0;34m.\u001b[0m\u001b[0mgroup\u001b[0m\u001b[0;34m(\u001b[0m\u001b[0;34m'invalid'\u001b[0m\u001b[0;34m)\u001b[0m \u001b[0;32mis\u001b[0m \u001b[0;32mnot\u001b[0m \u001b[0;32mNone\u001b[0m\u001b[0;34m:\u001b[0m\u001b[0;34m\u001b[0m\u001b[0m\n\u001b[0;32m--> 126\u001b[0;31m                 \u001b[0mself\u001b[0m\u001b[0;34m.\u001b[0m\u001b[0m_invalid\u001b[0m\u001b[0;34m(\u001b[0m\u001b[0mmo\u001b[0m\u001b[0;34m)\u001b[0m\u001b[0;34m\u001b[0m\u001b[0m\n\u001b[0m\u001b[1;32m    127\u001b[0m             raise ValueError('Unrecognized named group in pattern',\n\u001b[1;32m    128\u001b[0m                              self.pattern)\n",
      "\u001b[0;32m/Users/shenxiabing/anaconda/lib/python3.5/string.py\u001b[0m in \u001b[0;36m_invalid\u001b[0;34m(self, mo)\u001b[0m\n\u001b[1;32m     97\u001b[0m             \u001b[0mlineno\u001b[0m \u001b[0;34m=\u001b[0m \u001b[0mlen\u001b[0m\u001b[0;34m(\u001b[0m\u001b[0mlines\u001b[0m\u001b[0;34m)\u001b[0m\u001b[0;34m\u001b[0m\u001b[0m\n\u001b[1;32m     98\u001b[0m         raise ValueError('Invalid placeholder in string: line %d, col %d' %\n\u001b[0;32m---> 99\u001b[0;31m                          (lineno, colno))\n\u001b[0m\u001b[1;32m    100\u001b[0m \u001b[0;34m\u001b[0m\u001b[0m\n\u001b[1;32m    101\u001b[0m     \u001b[0;32mdef\u001b[0m \u001b[0msubstitute\u001b[0m\u001b[0;34m(\u001b[0m\u001b[0;34m*\u001b[0m\u001b[0margs\u001b[0m\u001b[0;34m,\u001b[0m \u001b[0;34m**\u001b[0m\u001b[0mkws\u001b[0m\u001b[0;34m)\u001b[0m\u001b[0;34m:\u001b[0m\u001b[0;34m\u001b[0m\u001b[0m\n",
      "\u001b[0;31mValueError\u001b[0m: Invalid placeholder in string: line 1, col 11"
     ]
    }
   ],
   "source": [
    "from string import Template\n",
    "s = Template('$who likes $what')\n",
    "print(s.substitute(who='tim', what='kung pao'))\n",
    "\n",
    "d = dict(who='tim')\n",
    "Template('Give $who $100').substitute(d)\n",
    "Template('$who likes $what').substitute(d)\n",
    "Template('$who likes $what').safe_substitute(d)\n"
   ]
  },
  {
   "cell_type": "code",
   "execution_count": 53,
   "metadata": {
    "collapsed": false
   },
   "outputs": [
    {
     "data": {
      "text/plain": [
       "'tim likes $what'"
      ]
     },
     "execution_count": 53,
     "metadata": {},
     "output_type": "execute_result"
    }
   ],
   "source": [
    "Template('$who likes $what').safe_substitute(d)"
   ]
  },
  {
   "cell_type": "code",
   "execution_count": 54,
   "metadata": {
    "collapsed": false
   },
   "outputs": [
    {
     "name": "stdout",
     "output_type": "stream",
     "text": [
      "test unicode\n",
      "b'test unicode'\n"
     ]
    }
   ],
   "source": [
    "a=u'test unicode'\n",
    "print(a)\n",
    "\n",
    "print(a.encode('utf-8'))"
   ]
  },
  {
   "cell_type": "markdown",
   "metadata": {},
   "source": [
    "### Complex Numbers"
   ]
  },
  {
   "cell_type": "code",
   "execution_count": 57,
   "metadata": {
    "collapsed": false
   },
   "outputs": [
    {
     "name": "stdout",
     "output_type": "stream",
     "text": [
      "1j\n",
      "(3+2j) 3.0 2.0 (3-2j)\n"
     ]
    }
   ],
   "source": [
    "print(1j)\n",
    "\n",
    "z= 3 + 2j\n",
    "\n",
    "print(z, z.real, z.imag, z.conjugate()) "
   ]
  },
  {
   "cell_type": "code",
   "execution_count": 64,
   "metadata": {
    "collapsed": false
   },
   "outputs": [
    {
     "name": "stdout",
     "output_type": "stream",
     "text": [
      "0o17\n",
      "15\n",
      "<class 'str'>\n",
      "0xf\n",
      "15\n"
     ]
    }
   ],
   "source": [
    "print(oct(15))\n",
    "print(0o17)\n",
    "print(type(oct(15)))\n",
    "print(hex(15))\n",
    "print(0xf)\n"
   ]
  },
  {
   "cell_type": "markdown",
   "metadata": {},
   "source": [
    "### List"
   ]
  },
  {
   "cell_type": "code",
   "execution_count": 67,
   "metadata": {
    "collapsed": false
   },
   "outputs": [
    {
     "name": "stdout",
     "output_type": "stream",
     "text": [
      "None\n",
      "[1, 2, 3, 6]\n",
      "None\n",
      "[1, 2, 7, 3, 6]\n",
      "7\n",
      "[1, 2, 3, 6]\n",
      "None\n",
      "[1, 2, 3, 6, 4, 5]\n",
      "None\n",
      "[1, 2, 3, 4, 5, 6]\n"
     ]
    }
   ],
   "source": [
    "lst1 = [1, 2, 3]\n",
    "lst2 = [4, 5]\n",
    "\n",
    "print(lst1.append(6))\n",
    "print(lst1)\n",
    "print(lst1.insert(2, 7))\n",
    "print(lst1)\n",
    "print(lst1.pop(2))\n",
    "print(lst1)\n",
    "print(lst1.extend(lst2))\n",
    "print(lst1)\n",
    "print(lst1.sort())\n",
    "print(lst1)"
   ]
  },
  {
   "cell_type": "code",
   "execution_count": 68,
   "metadata": {
    "collapsed": false
   },
   "outputs": [
    {
     "name": "stdout",
     "output_type": "stream",
     "text": [
      "(1, 2, 3, 4, 5, 6)\n"
     ]
    }
   ],
   "source": [
    "tup1 = tuple(lst1)\n",
    "print(tup1)\n"
   ]
  },
  {
   "cell_type": "markdown",
   "metadata": {},
   "source": [
    "### Read File line by line"
   ]
  },
  {
   "cell_type": "code",
   "execution_count": 92,
   "metadata": {
    "collapsed": false
   },
   "outputs": [
    {
     "name": "stdout",
     "output_type": "stream",
     "text": [
      "Hello World!\n",
      "\n",
      "abc\n"
     ]
    }
   ],
   "source": [
    "with open('file2.txt', 'r') as fp:\n",
    "    for line in fp:\n",
    "        print(line)\n",
    "        \n",
    "        "
   ]
  },
  {
   "cell_type": "code",
   "execution_count": 93,
   "metadata": {
    "collapsed": false
   },
   "outputs": [
    {
     "name": "stdout",
     "output_type": "stream",
     "text": [
      "2\n"
     ]
    }
   ],
   "source": [
    "print(len(open('file2.txt', 'r').readlines()))"
   ]
  },
  {
   "cell_type": "code",
   "execution_count": 74,
   "metadata": {
    "collapsed": false
   },
   "outputs": [
    {
     "name": "stdout",
     "output_type": "stream",
     "text": [
      "s.substitute(who='tim', what='kung pao')\n",
      "\n"
     ]
    }
   ],
   "source": [
    "import linecache \n",
    "\n",
    "line1 = linecache.getline('file1.txt', 3)\n",
    "print(line1)\n",
    "\n"
   ]
  },
  {
   "cell_type": "code",
   "execution_count": 90,
   "metadata": {
    "collapsed": true
   },
   "outputs": [],
   "source": [
    "fp = open('file2.txt', 'w')\n",
    "\n",
    "fp.write(\"Hello \")\n",
    "fp.write(\"World!\\n\")\n",
    "fp.close()\n",
    "\n"
   ]
  },
  {
   "cell_type": "code",
   "execution_count": 84,
   "metadata": {
    "collapsed": true
   },
   "outputs": [],
   "source": [
    "fp = open('file2.txt', 'w+')\n",
    "print(\"Test Print\\n\", file=fp)\n",
    "fp.close()"
   ]
  },
  {
   "cell_type": "code",
   "execution_count": 91,
   "metadata": {
    "collapsed": true
   },
   "outputs": [],
   "source": [
    "lst = ['a', 'b', 'c']\n",
    "\n",
    "fp = open('file2.txt', 'a')\n",
    "fp.writelines(lst)\n",
    "fp.close()\n"
   ]
  },
  {
   "cell_type": "markdown",
   "metadata": {},
   "source": [
    "### OS"
   ]
  },
  {
   "cell_type": "code",
   "execution_count": 100,
   "metadata": {
    "collapsed": false
   },
   "outputs": [
    {
     "name": "stdout",
     "output_type": "stream",
     "text": [
      "..  consumes 6244 bytes in 2 non-directory files\n",
      "../.git  consumes 802 bytes in 5 non-directory files\n",
      "../.git/branches  consumes 0 bytes in 0 non-directory files\n",
      "../.git/hooks  consumes 15321 bytes in 10 non-directory files\n",
      "../.git/info  consumes 240 bytes in 1 non-directory files\n",
      "../.git/logs  consumes 146 bytes in 1 non-directory files\n",
      "../.git/logs/refs  consumes 0 bytes in 0 non-directory files\n",
      "../.git/logs/refs/heads  consumes 146 bytes in 1 non-directory files\n",
      "../.git/logs/refs/remotes  consumes 0 bytes in 0 non-directory files\n",
      "../.git/logs/refs/remotes/python  consumes 159 bytes in 1 non-directory files\n",
      "../.git/objects  consumes 0 bytes in 0 non-directory files\n",
      "../.git/objects/43  consumes 89 bytes in 1 non-directory files\n",
      "../.git/objects/46  consumes 360 bytes in 1 non-directory files\n",
      "../.git/objects/4d  consumes 153 bytes in 1 non-directory files\n",
      "../.git/objects/5e  consumes 91 bytes in 1 non-directory files\n",
      "../.git/objects/61  consumes 938 bytes in 1 non-directory files\n",
      "../.git/objects/63  consumes 100 bytes in 1 non-directory files\n",
      "../.git/objects/cf  consumes 176 bytes in 1 non-directory files\n",
      "../.git/objects/df  consumes 54 bytes in 1 non-directory files\n",
      "../.git/objects/info  consumes 0 bytes in 0 non-directory files\n",
      "../.git/objects/pack  consumes 0 bytes in 0 non-directory files\n",
      "../.git/refs  consumes 0 bytes in 0 non-directory files\n",
      "../.git/refs/heads  consumes 41 bytes in 1 non-directory files\n",
      "../.git/refs/remotes  consumes 0 bytes in 0 non-directory files\n",
      "../.git/refs/remotes/python  consumes 41 bytes in 1 non-directory files\n",
      "../.git/refs/tags  consumes 0 bytes in 0 non-directory files\n",
      "../interview  consumes 29538 bytes in 4 non-directory files\n",
      "../interview/.ipynb_checkpoints  consumes 24675 bytes in 2 non-directory files\n",
      "../parallel  consumes 4173 bytes in 2 non-directory files\n"
     ]
    }
   ],
   "source": [
    "import os\n",
    "from os.path import join, getsize\n",
    "\n",
    "for root, dirs, files in os.walk('..'):\n",
    "    print (root, \" consumes \", end=\"\")\n",
    "    print (sum(getsize(join(root, name)) for name in files), end=\"\")\n",
    "    print (\" bytes in\", len(files), \"non-directory files\")\n",
    "    \n",
    "    "
   ]
  },
  {
   "cell_type": "markdown",
   "metadata": {},
   "source": [
    "### Tarfile"
   ]
  },
  {
   "cell_type": "code",
   "execution_count": 104,
   "metadata": {
    "collapsed": false
   },
   "outputs": [],
   "source": [
    "import tarfile\n",
    "\n",
    "myTar = tarfile.open(\"myTarfile.tar\", 'w')\n",
    "\n",
    "myTar.add('file1.txt')\n",
    "myTar.add('file2.txt')\n",
    "\n",
    "myTar.close()\n",
    "\n",
    "os.remove(\"myTarfile\")\n",
    "\n"
   ]
  },
  {
   "cell_type": "markdown",
   "metadata": {},
   "source": [
    "### zipfile"
   ]
  },
  {
   "cell_type": "code",
   "execution_count": 108,
   "metadata": {
    "collapsed": false
   },
   "outputs": [
    {
     "name": "stdout",
     "output_type": "stream",
     "text": [
      "creating archive\n",
      "closing\n"
     ]
    },
    {
     "data": {
      "text/plain": [
       "<function print>"
      ]
     },
     "execution_count": 108,
     "metadata": {},
     "output_type": "execute_result"
    }
   ],
   "source": [
    "import zipfile\n",
    "\n",
    "print ('creating archive')\n",
    "zf = zipfile.ZipFile('zipfile_write.zip', mode='w')\n",
    "\n",
    "try:\n",
    "    zf.write('file1.txt')\n",
    "    zf.write('file2.txt')\n",
    "finally:\n",
    "    print ('closing')\n",
    "    zf.close()\n",
    "\n",
    "\n"
   ]
  },
  {
   "cell_type": "code",
   "execution_count": 109,
   "metadata": {
    "collapsed": true
   },
   "outputs": [],
   "source": [
    "os.mkdir(\"./zip/\")"
   ]
  },
  {
   "cell_type": "code",
   "execution_count": 115,
   "metadata": {
    "collapsed": false
   },
   "outputs": [
    {
     "name": "stdout",
     "output_type": "stream",
     "text": [
      "b\"from string import Template\\ns = Template('$who likes $what')\\ns.substitute(who='tim', what='kung pao')\\nd = dict(who='tim')\\nTemplate('Give $who $100').substitute(d)\\nTemplate('$who likes $what').substitute(d)\\nTemplate('$who likes $what').safe_substitute(d)\\n\"\n",
      "b'Hello World!\\nabc'\n"
     ]
    }
   ],
   "source": [
    "zf = zipfile.ZipFile('zipfile_write.zip', 'r')\n",
    "\n",
    "for myFile in zf.namelist():\n",
    "    data = zf.read(myFile)\n",
    "    print(data)\n"
   ]
  },
  {
   "cell_type": "markdown",
   "metadata": {},
   "source": [
    "# Threads"
   ]
  },
  {
   "cell_type": "code",
   "execution_count": 120,
   "metadata": {
    "collapsed": false
   },
   "outputs": [
    {
     "name": "stdout",
     "output_type": "stream",
     "text": [
      "False\n",
      "Worker\n",
      "False\n",
      "False\n",
      "Worker\n",
      "False\n",
      "False\n",
      "Worker\n",
      "False\n"
     ]
    }
   ],
   "source": [
    "import threading\n",
    "\n",
    "def worker():\n",
    "    \"\"\"thread worker function\"\"\"\n",
    "    print ('Worker')\n",
    "    return\n",
    "\n",
    "threads = []\n",
    "for i in range(3):\n",
    "    t = threading.Thread(target=worker)\n",
    "    threads.append(t)\n",
    "    print(t.isAlive())\n",
    "    t.start()\n",
    "    print(t.isAlive())\n",
    "    t.join()\n",
    "    \n",
    "    "
   ]
  },
  {
   "cell_type": "markdown",
   "metadata": {},
   "source": [
    "### Lock, acquire, release"
   ]
  },
  {
   "cell_type": "code",
   "execution_count": 163,
   "metadata": {
    "collapsed": false
   },
   "outputs": [
    {
     "name": "stdout",
     "output_type": "stream",
     "text": [
      "fun1\n",
      "\tfun2\n",
      "\tfun2\n",
      "fun1\n",
      "\tfun2\n",
      "fun1\n",
      "\tfun2\n",
      "fun1\n",
      "\tfun2\n",
      "fun1\n"
     ]
    }
   ],
   "source": [
    "import threading\n",
    "import time\n",
    "\n",
    "lk = threading.Lock() \n",
    "\n",
    "def fun1():\n",
    "    for i in range(5):\n",
    "        time.sleep(.300)\n",
    "        lk.acquire(blocking=True) # default blocking is enabled\n",
    "        print(\"fun1\")\n",
    "        lk.release()\n",
    "    \n",
    "def fun2():\n",
    "    for i in range(5):\n",
    "        time.sleep(.300)\n",
    "        lk.acquire(False)\n",
    "        print(\"\\tfun2\")\n",
    "        lk.release()\n",
    "    \n",
    "t1 = threading.Thread(target=fun1)\n",
    "t2 = threading.Thread(target=fun2)\n",
    "\n",
    "t1.start()\n",
    "t2.start()\n",
    "\n",
    "t1.join()\n",
    "t2.join()\n",
    "\n",
    "\n",
    "\n"
   ]
  },
  {
   "cell_type": "code",
   "execution_count": 146,
   "metadata": {
    "collapsed": false
   },
   "outputs": [],
   "source": [
    "import threading \n",
    "\n",
    "def fun1():\n",
    "    print(\"Print after wait\")\n",
    "\n",
    "timer = threading.Timer(10, fun1)\n",
    "timer.start()\n",
    "timer.cancel()\n"
   ]
  },
  {
   "cell_type": "code",
   "execution_count": null,
   "metadata": {
    "collapsed": true
   },
   "outputs": [],
   "source": []
  },
  {
   "cell_type": "code",
   "execution_count": 5,
   "metadata": {
    "collapsed": false
   },
   "outputs": [
    {
     "name": "stdout",
     "output_type": "stream",
     "text": [
      "Doing something imporant in the background: 6 <Thread(Thread-6, started daemon 123145517785088)>\n",
      "Thread Count: 4\n",
      "<_MainThread(MainThread, started 140737257563072)>\n",
      "Doing something imporant in the background: 1 <Thread(Thread-7, started daemon 123145517785088)>\n",
      "Doing something imporant in the background: 2 <Thread(Thread-7, started daemon 123145517785088)>\n",
      "Doing something imporant in the background: 3 <Thread(Thread-7, started daemon 123145517785088)>\n",
      "Thread Count: 5\n",
      "Checkpoint\n",
      "Doing something imporant in the background: 4 <Thread(Thread-7, started daemon 123145517785088)>\n",
      "Doing something imporant in the background: 5 <Thread(Thread-7, started daemon 123145517785088)>\n",
      "Bye\n"
     ]
    }
   ],
   "source": [
    "import threading\n",
    "import time\n",
    "\n",
    "\n",
    "class ThreadingExample(object):\n",
    "    \"\"\" Threading example class\n",
    "    The run() method will be started and it will run in the background\n",
    "    until the application exits.\n",
    "    \"\"\"\n",
    "\n",
    "    def __init__(self, interval=1):\n",
    "        \"\"\" Constructor\n",
    "        :type interval: int\n",
    "        :param interval: Check interval, in seconds\n",
    "        \"\"\"\n",
    "        self.interval = interval\n",
    "        self.counter = 0\n",
    "        \n",
    "        thread = threading.Thread(target=self.run, args=())\n",
    "        thread.daemon = True                            # Daemonize thread\n",
    "        thread.start()                                  # Start the execution\n",
    "\n",
    "    def run(self):\n",
    "        \"\"\" Method that runs forever \"\"\"\n",
    "        while True:\n",
    "            # Do something\n",
    "            self.counter+=1\n",
    "            print('Doing something imporant in the background:', self.counter, threading.currentThread())\n",
    "\n",
    "            time.sleep(self.interval)\n",
    "            if self.counter > 5:\n",
    "                break\n",
    "\n",
    "print(\"Thread Count:\", threading.activeCount())\n",
    "print(threading.currentThread())\n",
    "example = ThreadingExample()\n",
    "time.sleep(3)\n",
    "print(\"Thread Count:\", threading.activeCount())\n",
    "\n",
    "print('Checkpoint')\n",
    "time.sleep(2)\n",
    "print('Bye')"
   ]
  },
  {
   "cell_type": "markdown",
   "metadata": {},
   "source": [
    "### Semaphore"
   ]
  },
  {
   "cell_type": "code",
   "execution_count": 69,
   "metadata": {
    "collapsed": false
   },
   "outputs": [
    {
     "name": "stdout",
     "output_type": "stream",
     "text": [
      "Running: %s ['thread_0']\n",
      "Running: %s ['thread_0', 'thread_1']\n",
      "Running: %s ['thread_0', 'thread_1', 'thread_2']\n",
      "Running: %s ['thread_1', 'thread_2']\n",
      "Running: %s ['thread_2']\n",
      "Running: %s ['thread_2', 'thread_4']\n",
      "Running: %s ['thread_2', 'thread_4', 'thread_3']\n",
      "Running: %s ['thread_4', 'thread_3']\n",
      "Running: %s ['thread_4', 'thread_3', 'thread_5']\n",
      "Running: %s ['thread_3', 'thread_5']\n",
      "Running: %s ['thread_5']\n",
      "Running: %s []\n",
      "Running: %s ['thread_6']\n",
      "Running: %s ['thread_6', 'thread_7']\n",
      "Running: %s ['thread_6', 'thread_7', 'thread_8']\n",
      "Running: %s ['thread_7', 'thread_8']\n",
      "Running: %s ['thread_8']\n",
      "Running: %s []\n",
      "Running: %s ['thread_9']\n",
      "Running: %s []\n"
     ]
    }
   ],
   "source": [
    "import threading\n",
    "import time\n",
    "import logging\n",
    "\n",
    "logging.basicConfig( level=logging.DEBUG,\n",
    "                    format='(%(threadName)-9s) %(message)s',)\n",
    "\n",
    "class ThreadPool(object):\n",
    "    def __init__(self):\n",
    "        super(ThreadPool, self).__init__()\n",
    "        self.active = []\n",
    "        self.lock = threading.Lock()\n",
    "    def makeActive(self, name):\n",
    "        with self.lock:\n",
    "            self.active.append(name)\n",
    "            #logging.debug('Running: %s', self.active)\n",
    "            print('Running: %s', self.active)\n",
    "    def makeInactive(self, name):\n",
    "        with self.lock:\n",
    "            self.active.remove(name)\n",
    "            #logging.debug('Running: %s', self.active)\n",
    "            print('Running: %s', self.active)\n",
    "\n",
    "def f(s, pool):\n",
    "    logging.debug('Waiting to join the pool')\n",
    "    with s:\n",
    "        name = threading.currentThread().getName()\n",
    "        pool.makeActive(name)\n",
    "        time.sleep(0.5)\n",
    "        pool.makeInactive(name)\n",
    "\n",
    "if __name__ == '__main__':\n",
    "    pool = ThreadPool()\n",
    "    s = threading.Semaphore(3)\n",
    "    for i in range(10):\n",
    "        t = threading.Thread(target=f, name='thread_'+str(i), args=(s, pool))\n",
    "        t.start()"
   ]
  },
  {
   "cell_type": "markdown",
   "metadata": {},
   "source": [
    "### cPickle"
   ]
  },
  {
   "cell_type": "code",
   "execution_count": 10,
   "metadata": {
    "collapsed": false
   },
   "outputs": [
    {
     "name": "stdout",
     "output_type": "stream",
     "text": [
      "DATA:\n",
      "[{'a': 'A', 'b': 2, 'c': 3.0}]\n",
      "PICKLE: b'\\x80\\x03]q\\x00}q\\x01(X\\x01\\x00\\x00\\x00cq\\x02G@\\x08\\x00\\x00\\x00\\x00\\x00\\x00X\\x01\\x00\\x00\\x00bq\\x03K\\x02X\\x01\\x00\\x00\\x00aq\\x04X\\x01\\x00\\x00\\x00Aq\\x05ua.'\n"
     ]
    }
   ],
   "source": [
    "try:\n",
    "    import cPickle as pickle\n",
    "except:\n",
    "    import pickle\n",
    "import pprint\n",
    "\n",
    "data = [ { 'a':'A', 'b':2, 'c':3.0 } ]\n",
    "print ('DATA:',)\n",
    "pprint.pprint(data)\n",
    "\n",
    "data_string = pickle.dumps(data)\n",
    "print ('PICKLE:', data_string)"
   ]
  },
  {
   "cell_type": "markdown",
   "metadata": {},
   "source": [
    "## DBM"
   ]
  },
  {
   "cell_type": "code",
   "execution_count": 13,
   "metadata": {
    "collapsed": false
   },
   "outputs": [
    {
     "name": "stdout",
     "output_type": "stream",
     "text": [
      "b'Python Website'\n"
     ]
    }
   ],
   "source": [
    "import dbm\n",
    "\n",
    "# Open database, creating it if necessary.\n",
    "with dbm.open('cache', 'c') as db:\n",
    "\n",
    "    # Record some values\n",
    "    db[b'hello'] = b'there'\n",
    "    db['www.python.org'] = 'Python Website'\n",
    "    db['www.cnn.com'] = 'Cable News Network'\n",
    "\n",
    "    # Note that the keys are considered bytes now.\n",
    "    assert db[b'www.python.org'] == b'Python Website'\n",
    "    # Notice how the value is now in bytes.\n",
    "    assert db['www.cnn.com'] == b'Cable News Network'\n",
    "\n",
    "    # Often-used methods of the dict interface work too.\n",
    "    print(db.get(b'www.python.org', b'not present'))\n",
    "\n",
    "    # Storing a non-string key or value will raise an exception (most\n",
    "    # likely a TypeError).\n",
    "#     db['www.yahoo.com'] = 4\n",
    "    "
   ]
  },
  {
   "cell_type": "markdown",
   "metadata": {},
   "source": [
    "### shelve"
   ]
  },
  {
   "cell_type": "code",
   "execution_count": 17,
   "metadata": {
    "collapsed": false
   },
   "outputs": [
    {
     "name": "stdout",
     "output_type": "stream",
     "text": [
      "['xx']\n",
      "[0, 1, 2, 5]\n"
     ]
    }
   ],
   "source": [
    "import shelve\n",
    "\n",
    "d = shelve.open(\"shelve_test\")  # open -- file may get suffix added by low-level\n",
    "                           # library\n",
    "\n",
    "key = 'key1'\n",
    "d[key] = \"First Data\"              # store data at key (overwrites old data if\n",
    "                           # using an existing key)\n",
    "data = d[key]              # retrieve a COPY of data at key (raise KeyError\n",
    "                           # if no such key)\n",
    "del d[key]                 # delete data stored at key (raises KeyError\n",
    "                           # if no such key)\n",
    "\n",
    "flag = key in d            # true if the key exists\n",
    "klist = list(d.keys())     # a list of all existing keys (slow!)\n",
    "\n",
    "# as d was opened WITHOUT writeback=True, beware:\n",
    "d['xx'] = [0, 1, 2]        # this works as expected, but...\n",
    "d['xx'].append(3)          # *this doesn't!* -- d['xx'] is STILL [0, 1, 2]!\n",
    "\n",
    "# having opened d without writeback=True, you need to code carefully:\n",
    "temp = d['xx']             # extracts the copy\n",
    "temp.append(5)             # mutates the copy\n",
    "d['xx'] = temp             # stores the copy right back, to persist it\n",
    "\n",
    "klist = list(d.keys())     # a list of all existing keys (slow!)\n",
    "print(klist)\n",
    "print(d['xx'])\n",
    "\n",
    "# or, d=shelve.open(filename,writeback=True) would let you just code\n",
    "# d['xx'].append(5) and have it work as expected, BUT it would also\n",
    "# consume more memory and make the d.close() operation slower.\n",
    "\n",
    "d.close()                  # close it"
   ]
  },
  {
   "cell_type": "code",
   "execution_count": null,
   "metadata": {
    "collapsed": true
   },
   "outputs": [],
   "source": []
  },
  {
   "cell_type": "code",
   "execution_count": null,
   "metadata": {
    "collapsed": true
   },
   "outputs": [],
   "source": []
  },
  {
   "cell_type": "code",
   "execution_count": null,
   "metadata": {
    "collapsed": true
   },
   "outputs": [],
   "source": []
  },
  {
   "cell_type": "markdown",
   "metadata": {},
   "source": [
    "## Queue Module"
   ]
  },
  {
   "cell_type": "markdown",
   "metadata": {},
   "source": [
    "### Normal Queue"
   ]
  },
  {
   "cell_type": "code",
   "execution_count": 149,
   "metadata": {
    "collapsed": false
   },
   "outputs": [
    {
     "name": "stdout",
     "output_type": "stream",
     "text": [
      "0\n",
      "1\n",
      "2\n",
      "3\n",
      "4\n"
     ]
    }
   ],
   "source": [
    "import queue\n",
    "\n",
    "q = queue.Queue()\n",
    "\n",
    "for i in range(5):\n",
    "    q.put(i)\n",
    "\n",
    "while not q.empty():\n",
    "    print (q.get())"
   ]
  },
  {
   "cell_type": "markdown",
   "metadata": {},
   "source": [
    "### Lifo Queue"
   ]
  },
  {
   "cell_type": "code",
   "execution_count": 151,
   "metadata": {
    "collapsed": false
   },
   "outputs": [
    {
     "name": "stdout",
     "output_type": "stream",
     "text": [
      "4\n",
      "3\n",
      "2\n",
      "1\n",
      "0\n"
     ]
    }
   ],
   "source": [
    "import queue\n",
    "\n",
    "q = queue.LifoQueue()\n",
    "\n",
    "for i in range(5):\n",
    "    q.put(i)\n",
    "\n",
    "while not q.empty():\n",
    "    print (q.get())\n",
    "    \n",
    "    "
   ]
  },
  {
   "cell_type": "markdown",
   "metadata": {},
   "source": [
    "### Priority Queue"
   ]
  },
  {
   "cell_type": "code",
   "execution_count": 161,
   "metadata": {
    "collapsed": false
   },
   "outputs": [
    {
     "name": "stdout",
     "output_type": "stream",
     "text": [
      "[1:Important job, 3:Mid-level job, 10:Low-level job]\n",
      "Size: 3\n",
      "full: False\n",
      "Processing job: Important job\n",
      "Processing job: Mid-level job\n",
      "Processing job: Low-level job\n"
     ]
    }
   ],
   "source": [
    "import queue\n",
    "\n",
    "class Job(object):\n",
    "    def __init__(self, priority, description):\n",
    "        self.priority = priority\n",
    "        self.description = description\n",
    "        return\n",
    "    \n",
    "    def __lt__(self, other):\n",
    "        return self.priority < other.priority\n",
    "    \n",
    "    def __eq__(self, other):\n",
    "        return self.priority == other.priority\n",
    "    \n",
    "    def __repr__(self):\n",
    "         return \"%s:%s\" % (self.priority, self.description)\n",
    "\n",
    "\n",
    "q = queue.PriorityQueue()\n",
    "\n",
    "j1 = Job(3, 'Mid-level job')\n",
    "j2 = Job(10, 'Low-level job')\n",
    "j3 = Job(1, 'Important job')\n",
    "\n",
    "print(sorted([j1, j2, j3]))\n",
    "\n",
    "q.put( Job(3, 'Mid-level job'))\n",
    "q.put( Job(10, 'Low-level job'))\n",
    "q.put( Job(1, 'Important job'))\n",
    "\n",
    "print(\"Size:\", q.qsize())\n",
    "print(\"full:\", q.full())\n",
    "\n",
    "while not q.empty():\n",
    "    next_job = q.get()\n",
    "    print ('Processing job:', next_job.description)\n",
    "    "
   ]
  },
  {
   "cell_type": "markdown",
   "metadata": {},
   "source": [
    "### Email (Sending)"
   ]
  },
  {
   "cell_type": "code",
   "execution_count": 68,
   "metadata": {
    "collapsed": false
   },
   "outputs": [
    {
     "name": "stdout",
     "output_type": "stream",
     "text": [
      "Email sent!\n"
     ]
    }
   ],
   "source": [
    "import smtplib\n",
    "\n",
    "gmail_user = 'elishen@uchicago.edu'  \n",
    "gmail_password = 'DreamRun0820'\n",
    "\n",
    "from1 = gmail_user  \n",
    "to = ['xiabingshen@hotmail.com']  \n",
    "subject = 'Test Message sent by Python'  \n",
    "body = 'Hahaha'\n",
    "\n",
    "email_text = \"\"\"\\  \n",
    "From: %s  \n",
    "To: %s  \n",
    "Subject: %s\n",
    "\n",
    "%s\n",
    "\"\"\" % (from1, \", \".join(to), subject, body)\n",
    "\n",
    "# try:  \n",
    "server = smtplib.SMTP_SSL('authsmtp.uchicago.edu', 465)\n",
    "server.ehlo()\n",
    "server.login(gmail_user, gmail_password)\n",
    "server.sendmail(from1, to, email_text)\n",
    "server.close()\n",
    "\n",
    "print ('Email sent!')\n",
    "# except:  \n",
    "#     print ('Something went wrong...')\n"
   ]
  },
  {
   "cell_type": "code",
   "execution_count": null,
   "metadata": {
    "collapsed": false
   },
   "outputs": [],
   "source": [
    "import imaplib\n",
    "mail = imaplib.IMAP4_SSL('xmail.uchicago.edu')\n",
    "mail.login('elishen@uchicago.edu', 'xxx')\n",
    "mail.list()\n",
    "# Out: list of \"folders\" aka labels in gmail.\n",
    "mail.select(\"inbox\") # connect to inbox.\n",
    "result, data = mail.search(None, \"ALL\")\n",
    "\n",
    "ids = data[0] # data is a list.\n",
    "id_list = ids.split() # ids is a space separated string\n",
    "latest_email_id = id_list[-1] # get the latest\n",
    "\n",
    "# fetch the email body (RFC822) for the given ID\n",
    "result, data = mail.fetch(latest_email_id, \"(RFC822)\") \n",
    "\n",
    "raw_email = data[0][1] # here's the body, which is raw text of the whole email\n",
    "# including headers and alternate payloads\n",
    "\n",
    "print(raw_email)\n",
    "\n"
   ]
  },
  {
   "cell_type": "markdown",
   "metadata": {},
   "source": [
    "### FTP"
   ]
  },
  {
   "cell_type": "code",
   "execution_count": null,
   "metadata": {
    "collapsed": false
   },
   "outputs": [],
   "source": [
    "import ftplib\n",
    "\n",
    "myftp = ftplib.FTP('speedtest.tele2.net', 'anonymous', 'test@abc.com')\n",
    "print(myftp.dir())\n",
    "\n",
    "myfile = open('100KB.zip', 'wb')\n",
    "myftp.retrbinary('100KB.zip', myfile.write)\n",
    "\n",
    "myftp.quit()\n",
    "myfile.close()"
   ]
  },
  {
   "cell_type": "markdown",
   "metadata": {},
   "source": [
    "### HTML/XML"
   ]
  },
  {
   "cell_type": "code",
   "execution_count": 67,
   "metadata": {
    "collapsed": false,
    "scrolled": false
   },
   "outputs": [
    {
     "name": "stdout",
     "output_type": "stream",
     "text": [
      "b'<!DOCTYPE html PUBLIC \"-//W3C//DTD HTML 4.01 Transitional//EN\" \"http://www.w3.org/TR/html4/loose.dtd\">\\n<html>\\n<head>\\n<meta http-equiv=\"Content-type\" content=\"text/html;charset=UTF-8\">\\n<title>Directory listing of daily-index/</title>\\n<link rel=\"stylesheet\" type=\"text/css\" href=\"/css/third-party/reset'\n",
      "/index.htm\n",
      "/search/search.htm\n",
      "#main-content\n",
      "/about.shtml\n",
      "/about/whatwedo.shtml\n",
      "/about/commissioner.shtml\n",
      "/about/laws.shtml\n",
      "/about/secreports.shtml\n",
      "/jobs.shtml\n",
      "/contact.shtml\n",
      "/divisions.shtml\n",
      "/divisions/corpfin.shtml\n",
      "/divisions/enforce.shtml\n",
      "/divisions/investment.shtml\n",
      "/divisions/riskfin.shtml\n",
      "/divisions/marketreg.shtml\n",
      "/about/offices/ocie.shtml\n",
      "/divisions.shtml\n",
      "/litigation.shtml\n",
      "/litigation/litreleases.shtml\n",
      "/litigation/admin.shtml\n",
      "/litigation/opinions.shtml\n",
      "/divisions/enforce/friactions.shtml\n",
      "/litigation/suspensions.shtml\n",
      "/news/newsroom/howinvestigationswork.html\n",
      "/alj.shtml\n",
      "/rules.shtml\n",
      "/rules/proposed.shtml\n",
      "/rules/final.shtml\n",
      "/rules/interim-final-temp.shtml\n",
      "/rules/other.shtml\n",
      "/rules/sro.shtml\n",
      "/interps.shtml\n",
      "/investor.shtml\n",
      "http://investor.gov/\n",
      "/investor/brokers.htm\n",
      "/investor/alerts.shtml\n",
      "/answers.shtml\n",
      "/complaint/select.shtml\n",
      "/investor/pubs.shtml\n",
      "/edgar.shtml\n",
      "/edgar/quickedgar.htm\n",
      "/edgar/searchedgar/companysearch.html\n",
      "/about/forms/secforms.htm\n",
      "/answers/publicdocs.htm\n",
      "/news/newsroom/index.html\n",
      "/news/press.shtml\n",
      "/news/whatsnew/wn-today.shtml\n",
      "/about/upcoming-events.htm\n",
      "/news/digest.shtml\n",
      "/news/webcasts.shtml\n",
      "/news/studies.shtml\n",
      "/news/speech.shtml\n",
      "/news/testimony.shtml\n",
      "1994/\n",
      "1995/\n",
      "1996/\n",
      "1997/\n",
      "1998/\n",
      "1999/\n",
      "2000/\n",
      "2001/\n",
      "2002/\n",
      "2003/\n",
      "2004/\n",
      "2005/\n",
      "2006/\n",
      "2007/\n",
      "2008/\n",
      "2009/\n",
      "2010/\n",
      "2011/\n",
      "2012/\n",
      "2013/\n",
      "2014/\n",
      "2015/\n",
      "2016/\n",
      "2017/\n",
      "sitemap.20140909.xml\n",
      "sitemap.dailyindexes.xml\n",
      "sitemap.xml\n",
      "/sitemap.shtml\n",
      "/eeoinfo/sec_access.htm\n",
      "/about/offices/oacq.htm\n",
      "/privacy.htm\n",
      "http://www.sec-oig.gov/\n",
      "/jobs.shtml\n",
      "/contact.shtml\n",
      "/foia.shtml\n",
      "/eeoinfo.shtml\n",
      "/open\n",
      "/plainwriting.shtml\n",
      "/links.shtml\n",
      "http://investor.gov/\n",
      "http://www.usa.gov/\n"
     ]
    },
    {
     "name": "stderr",
     "output_type": "stream",
     "text": [
      "/Users/shenxiabing/anaconda/lib/python3.5/site-packages/bs4/__init__.py:166: UserWarning: No parser was explicitly specified, so I'm using the best available HTML parser for this system (\"lxml\"). This usually isn't a problem, but if you run this code on another system, or in a different virtual environment, it may use a different parser and behave differently.\n",
      "\n",
      "To get rid of this warning, change this:\n",
      "\n",
      " BeautifulSoup([your markup])\n",
      "\n",
      "to this:\n",
      "\n",
      " BeautifulSoup([your markup], \"lxml\")\n",
      "\n",
      "  markup_type=markup_type))\n"
     ]
    }
   ],
   "source": [
    "# import urlparse \n",
    "\n",
    "# mytuple = urlparse.urlparse(\"https://www.sec.gov/Archives/edgar/daily-index/\")\n",
    "\n",
    "# print(mytuple)\n",
    "\n",
    "import urllib.request\n",
    "with urllib.request.urlopen(\"https://www.sec.gov/Archives/edgar/daily-index/\") as f:\n",
    "    print(f.read(300))\n",
    "\n",
    "from bs4 import BeautifulSoup\n",
    "\n",
    "page = urllib.request.urlopen(\"https://www.sec.gov/Archives/edgar/daily-index/\").read()\n",
    "soup = BeautifulSoup(page, 'html')\n",
    "soup.prettify()\n",
    "for anchor in soup.findAll('a', href=True):\n",
    "    print (anchor['href'])\n",
    "    \n"
   ]
  },
  {
   "cell_type": "code",
   "execution_count": null,
   "metadata": {
    "collapsed": true
   },
   "outputs": [],
   "source": []
  },
  {
   "cell_type": "code",
   "execution_count": 66,
   "metadata": {
    "collapsed": false
   },
   "outputs": [
    {
     "name": "stdout",
     "output_type": "stream",
     "text": [
      "<?xml version=\"1.0\" encoding=\"utf-8\"?>\n",
      "<data>\n",
      " <country name=\"Liechtenstein\">\n",
      "  <rank>\n",
      "   1\n",
      "  </rank>\n",
      "  <year>\n",
      "   2008\n",
      "  </year>\n",
      "  <gdppc>\n",
      "   141100\n",
      "  </gdppc>\n",
      "  <neighbor direction=\"E\" name=\"Austria\"/>\n",
      "  <neighbor direction=\"W\" name=\"Switzerland\"/>\n",
      " </country>\n",
      " <country name=\"Singapore\">\n",
      "  <rank>\n",
      "   4\n",
      "  </rank>\n",
      "  <year>\n",
      "   2011\n",
      "  </year>\n",
      "  <gdppc>\n",
      "   59900\n",
      "  </gdppc>\n",
      "  <neighbor direction=\"N\" name=\"Malaysia\"/>\n",
      " </country>\n",
      " <country name=\"Panama\">\n",
      "  <rank>\n",
      "   68\n",
      "  </rank>\n",
      "  <year>\n",
      "   2011\n",
      "  </year>\n",
      "  <gdppc>\n",
      "   13600\n",
      "  </gdppc>\n",
      "  <neighbor direction=\"W\" name=\"Costa Rica\"/>\n",
      "  <neighbor direction=\"E\" name=\"Colombia\"/>\n",
      " </country>\n",
      "</data>\n"
     ]
    }
   ],
   "source": [
    "import xml.etree.ElementTree as ET\n",
    "#tree = ET.parse('test.xml')\n",
    "\n",
    "\n",
    "def parseLog(file):\n",
    "    handler = open(file).read()\n",
    "    soup = BeautifulSoup(handler, 'xml')\n",
    "    print( soup.prettify())\n",
    "\n",
    "if __name__ == \"__main__\":\n",
    "    parseLog('test.xml')\n",
    "    \n",
    "    "
   ]
  },
  {
   "cell_type": "code",
   "execution_count": null,
   "metadata": {
    "collapsed": true
   },
   "outputs": [],
   "source": []
  },
  {
   "cell_type": "code",
   "execution_count": null,
   "metadata": {
    "collapsed": true
   },
   "outputs": [],
   "source": []
  },
  {
   "cell_type": "code",
   "execution_count": null,
   "metadata": {
    "collapsed": true
   },
   "outputs": [],
   "source": []
  },
  {
   "cell_type": "code",
   "execution_count": null,
   "metadata": {
    "collapsed": true
   },
   "outputs": [],
   "source": []
  },
  {
   "cell_type": "code",
   "execution_count": null,
   "metadata": {
    "collapsed": true
   },
   "outputs": [],
   "source": []
  },
  {
   "cell_type": "markdown",
   "metadata": {},
   "source": [
    "### Email (Not working yet)"
   ]
  },
  {
   "cell_type": "code",
   "execution_count": 24,
   "metadata": {
    "collapsed": false
   },
   "outputs": [
    {
     "name": "stdout",
     "output_type": "stream",
     "text": [
      "failed to send mail\n"
     ]
    }
   ],
   "source": [
    "import smtplib \n",
    "\n",
    "def send_email(user, pwd, recipient, subject, body):\n",
    "    import smtplib\n",
    "\n",
    "    gmail_user = user\n",
    "    gmail_pwd = pwd\n",
    "    FROM = user\n",
    "    TO = recipient if type(recipient) is list else [recipient]\n",
    "    SUBJECT = subject\n",
    "    TEXT = body\n",
    "\n",
    "    # Prepare actual message\n",
    "    message = \"\"\"From: %s\\nTo: %s\\nSubject: %s\\n\\n%s\n",
    "    \"\"\" % (FROM, \", \".join(TO), SUBJECT, TEXT)\n",
    "    try:\n",
    "        server = smtplib.SMTP(\"smtp.gmail.com\", 587)\n",
    "        server.ehlo()\n",
    "        server.starttls()\n",
    "        server.login(gmail_user, gmail_pwd)\n",
    "        server.sendmail(FROM, TO, message)\n",
    "        server.close()\n",
    "        print ('successfully sent the mail')\n",
    "    except:\n",
    "        print (\"failed to send mail\")\n",
    "        \n",
    "\n",
    "        \n",
    "send_email('shenxiabing@gmail.com', 'x', 'xiabingshen@hotmail.com', \n",
    "           'Python Test', \n",
    "           '''This is a test message. \n",
    "           This is the 2nd line. \n",
    "           One more line.'''\n",
    "           )    "
   ]
  },
  {
   "cell_type": "code",
   "execution_count": 40,
   "metadata": {
    "collapsed": false
   },
   "outputs": [
    {
     "name": "stdout",
     "output_type": "stream",
     "text": [
      "Email sent!\n"
     ]
    }
   ],
   "source": [
    "\n"
   ]
  },
  {
   "cell_type": "code",
   "execution_count": 27,
   "metadata": {
    "collapsed": false
   },
   "outputs": [
    {
     "ename": "ImportError",
     "evalue": "No module named 'email.MIMEMultipart'",
     "output_type": "error",
     "traceback": [
      "\u001b[0;31m---------------------------------------------------------------------------\u001b[0m",
      "\u001b[0;31mImportError\u001b[0m                               Traceback (most recent call last)",
      "\u001b[0;32m<ipython-input-27-31dd4b20dc80>\u001b[0m in \u001b[0;36m<module>\u001b[0;34m()\u001b[0m\n\u001b[1;32m      2\u001b[0m \u001b[0;32mimport\u001b[0m \u001b[0memail\u001b[0m\u001b[0;34m\u001b[0m\u001b[0m\n\u001b[1;32m      3\u001b[0m \u001b[0;32mimport\u001b[0m \u001b[0mos\u001b[0m\u001b[0;34m\u001b[0m\u001b[0m\n\u001b[0;32m----> 4\u001b[0;31m \u001b[0;32mfrom\u001b[0m \u001b[0memail\u001b[0m\u001b[0;34m.\u001b[0m\u001b[0mMIMEMultipart\u001b[0m \u001b[0;32mimport\u001b[0m \u001b[0mMIMEMultipart\u001b[0m\u001b[0;34m\u001b[0m\u001b[0m\n\u001b[0m\u001b[1;32m      5\u001b[0m \u001b[0;32mfrom\u001b[0m \u001b[0memail\u001b[0m\u001b[0;34m.\u001b[0m\u001b[0mUtils\u001b[0m \u001b[0;32mimport\u001b[0m \u001b[0mCOMMASPACE\u001b[0m\u001b[0;34m\u001b[0m\u001b[0m\n\u001b[1;32m      6\u001b[0m \u001b[0;32mfrom\u001b[0m \u001b[0memail\u001b[0m\u001b[0;34m.\u001b[0m\u001b[0mMIMEBase\u001b[0m \u001b[0;32mimport\u001b[0m \u001b[0mMIMEBase\u001b[0m\u001b[0;34m\u001b[0m\u001b[0m\n",
      "\u001b[0;31mImportError\u001b[0m: No module named 'email.MIMEMultipart'"
     ]
    }
   ],
   "source": [
    "import smtplib\n",
    "import email\n",
    "import os\n",
    "from email.MIMEMultipart import MIMEMultipart\n",
    "from email.Utils import COMMASPACE\n",
    "from email.MIMEBase import MIMEBase\n",
    "from email.parser import Parser\n",
    "from email.MIMEImage import MIMEImage\n",
    "from email.MIMEText import MIMEText\n",
    "from email.MIMEAudio import MIMEAudio\n",
    "import mimetypes\n",
    "\n",
    "smtp_host = 'smtp.gmail.com'\n",
    "smtp_port = 587\n",
    "server = smtplib.SMTP()\n",
    "server.connect(smtp_host,smtp_port)\n",
    "server.ehlo()\n",
    "server.starttls()\n",
    "user='shenxiabing@gmail.com'\n",
    "passwd='xxx'\n",
    "server.login(user,passwd)\n",
    "fromaddr = raw_input('Send mail by the name of: ')\n",
    "tolist = raw_input('To: ').split()\n",
    "sub = raw_input('Subject: ')\n",
    "\n",
    "msg = email.MIMEMultipart.MIMEMultipart()\n",
    "msg['From'] = fromaddr\n",
    "msg['To'] = email.Utils.COMMASPACE.join(tolist)\n",
    "msg['Subject'] = sub  \n",
    "msg.attach(MIMEText(raw_input('Body: ')))\n",
    "msg.attach(MIMEText('\\nsent via python', 'plain'))\n",
    "server.sendmail(user,tolist,msg.as_string())\n",
    "\n"
   ]
  },
  {
   "cell_type": "markdown",
   "metadata": {},
   "source": [
    "# Collection.Counter, dequeue, defaultdict, OrderedDict"
   ]
  },
  {
   "cell_type": "code",
   "execution_count": null,
   "metadata": {
    "collapsed": true
   },
   "outputs": [],
   "source": []
  },
  {
   "cell_type": "code",
   "execution_count": null,
   "metadata": {
    "collapsed": true
   },
   "outputs": [],
   "source": []
  },
  {
   "cell_type": "code",
   "execution_count": null,
   "metadata": {
    "collapsed": true
   },
   "outputs": [],
   "source": []
  },
  {
   "cell_type": "code",
   "execution_count": 71,
   "metadata": {
    "collapsed": false
   },
   "outputs": [
    {
     "name": "stdout",
     "output_type": "stream",
     "text": [
      "43900.6\n",
      "44627.5\n",
      "38120\n",
      "30466.9\n",
      "-34551.8 122352.989883\n"
     ]
    },
    {
     "data": {
      "text/plain": [
       "ModeResult(mode=array([4978]), count=array([1]))"
      ]
     },
     "execution_count": 71,
     "metadata": {},
     "output_type": "execute_result"
    }
   ],
   "source": [
    "from collections import Counter \n",
    "import numpy as np \n",
    "\n",
    "n=10\n",
    "lst = [64630 , 11735, 14216, 99233, 14470 ,4978,73429, 38120, 51135, 67060]\n",
    "\n",
    "lst = sorted(lst)\n",
    "\n",
    "mu = np.mean(lst)\n",
    "sd = np.std(lst)\n",
    "\n",
    "print(\"%.1f\"%mu)\n",
    "if (n%2==0):\n",
    "    print(\"%.1f\"%((lst[n//2-1] + lst[n//2])/2.0))\n",
    "else:\n",
    "    print(\"%.1f\"%(lst[n//2]))\n",
    "\n",
    "print(Counter(lst).most_common()[0][0])\n",
    "\n",
    "print(\"%.1f\"%sd)\n",
    "\n",
    "print(\"%.1f %1f\"%(mu - 2.575*sd, mu+2.575*sd))\n",
    "\n",
    "from scipy.stats import mode \n",
    "\n",
    "mode(lst)\n"
   ]
  },
  {
   "cell_type": "code",
   "execution_count": 72,
   "metadata": {
    "collapsed": false
   },
   "outputs": [
    {
     "data": {
      "text/plain": [
       "-1.9599639845400545"
      ]
     },
     "execution_count": 72,
     "metadata": {},
     "output_type": "execute_result"
    }
   ],
   "source": [
    "from scipy.stats import norm\n",
    "\n",
    "norm.ppf(0.025)"
   ]
  },
  {
   "cell_type": "code",
   "execution_count": 76,
   "metadata": {
    "collapsed": false
   },
   "outputs": [
    {
     "data": {
      "text/plain": [
       "[[], [], [], [], []]"
      ]
     },
     "execution_count": 76,
     "metadata": {},
     "output_type": "execute_result"
    }
   ],
   "source": [
    "[[]] * 5"
   ]
  },
  {
   "cell_type": "code",
   "execution_count": null,
   "metadata": {
    "collapsed": true
   },
   "outputs": [],
   "source": []
  },
  {
   "cell_type": "code",
   "execution_count": null,
   "metadata": {
    "collapsed": true
   },
   "outputs": [],
   "source": []
  },
  {
   "cell_type": "code",
   "execution_count": null,
   "metadata": {
    "collapsed": true
   },
   "outputs": [],
   "source": []
  }
 ],
 "metadata": {
  "kernelspec": {
   "display_name": "Python 3",
   "language": "python",
   "name": "python3"
  },
  "language_info": {
   "codemirror_mode": {
    "name": "ipython",
    "version": 3
   },
   "file_extension": ".py",
   "mimetype": "text/x-python",
   "name": "python",
   "nbconvert_exporter": "python",
   "pygments_lexer": "ipython3",
   "version": "3.5.2"
  }
 },
 "nbformat": 4,
 "nbformat_minor": 0
}
