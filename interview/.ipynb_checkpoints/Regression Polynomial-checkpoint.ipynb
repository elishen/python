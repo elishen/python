{
 "cells": [
  {
   "cell_type": "code",
   "execution_count": 5,
   "metadata": {
    "collapsed": false
   },
   "outputs": [
    {
     "name": "stdout",
     "output_type": "stream",
     "text": [
      "2 2\n",
      "1 2 3\n",
      "4 5 6\n",
      "2\n",
      "7 8\n",
      "9 0\n",
      "[[1], [4]]\n",
      "[3, 6]\n",
      "[[7, 8], [9, 0]]\n"
     ]
    }
   ],
   "source": [
    "from sklearn import linear_model \n",
    "from sklearn.preprocessing import PolynomialFeatures\n",
    "import numpy as np\n",
    "\n",
    "k_features = 0\n",
    "k_training = 0 \n",
    "k_test = 0 \n",
    "\n",
    "train_x = []\n",
    "train_y = []\n",
    "test_x = []\n",
    "\n",
    "[k_features, k_training] = [int(x) for x in input().strip().split()]\n",
    "\n",
    "while (k_training > 0):\n",
    "    k_training -= 1\n",
    "    record = [float(x) for x in input().strip().split()]\n",
    "    train_x.append(record[:-1])\n",
    "    train_y.append(record[-1])\n",
    "    \n",
    "k_test = int(input().strip())\n",
    "\n",
    "while (k_test >0):\n",
    "    record = [float(x) for x in input().strip().split()]\n",
    "    test_x.append(record)\n",
    "    k_test -= 1\n",
    "    \n",
    "poly = PolynomialFeatures(degree=4)\n",
    "trans_train = poly.fit_transform(train_x)\n",
    "trans_test = poly.fit_transform(test_x)\n",
    "\n",
    "clf = linear_model.LinearRegression()\n",
    "clf.fit(trans_train, train_y)\n",
    "\n",
    "predict = clf.predict(trans_test)\n",
    "for p in predict:\n",
    "    print(\"%.2f\"%p)\n",
    "\n",
    "\n",
    "# 2 2 \n",
    "# 1 2 3\n",
    "# 4 5 6\n",
    "# 2\n",
    "# 1 2 \n",
    "# 3 4\n"
   ]
  }
 ],
 "metadata": {
  "kernelspec": {
   "display_name": "Python 3",
   "language": "python",
   "name": "python3"
  },
  "language_info": {
   "codemirror_mode": {
    "name": "ipython",
    "version": 3
   },
   "file_extension": ".py",
   "mimetype": "text/x-python",
   "name": "python",
   "nbconvert_exporter": "python",
   "pygments_lexer": "ipython3",
   "version": "3.5.2"
  }
 },
 "nbformat": 4,
 "nbformat_minor": 0
}
