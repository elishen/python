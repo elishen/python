{
 "cells": [
  {
   "cell_type": "code",
   "execution_count": 2,
   "metadata": {
    "collapsed": false
   },
   "outputs": [
    {
     "data": {
      "text/plain": [
       "1.0"
      ]
     },
     "execution_count": 2,
     "metadata": {},
     "output_type": "execute_result"
    }
   ],
   "source": [
    "import math\n",
    "\n",
    "math.log(2, 2)"
   ]
  },
  {
   "cell_type": "code",
   "execution_count": 106,
   "metadata": {
    "collapsed": false
   },
   "outputs": [
    {
     "data": {
      "text/plain": [
       "datetime.timedelta(24, 67041, 617612)"
      ]
     },
     "execution_count": 106,
     "metadata": {},
     "output_type": "execute_result"
    }
   ],
   "source": [
    "import sys \n",
    "from datetime import datetime \n",
    "\n",
    "opt = datetime(2017, 2, 10)\n",
    "\n",
    "datetime.today() - opt\n",
    "\n"
   ]
  },
  {
   "cell_type": "code",
   "execution_count": 98,
   "metadata": {
    "collapsed": false
   },
   "outputs": [
    {
     "name": "stdout",
     "output_type": "stream",
     "text": [
      "40951 59049\n"
     ]
    }
   ],
   "source": [
    "n_yes = 0\n",
    "n_no = 0\n",
    "\n",
    "for i in range(1, 100001):\n",
    "    if '5' in str(i):\n",
    "        n_yes += 1\n",
    "    else: \n",
    "        n_no += 1\n",
    "\n",
    "print(n_yes, n_no)\n",
    "\n"
   ]
  },
  {
   "cell_type": "code",
   "execution_count": 100,
   "metadata": {
    "collapsed": false
   },
   "outputs": [
    {
     "name": "stdout",
     "output_type": "stream",
     "text": [
      "9\n",
      "81\n",
      "729\n",
      "6561\n",
      "59049\n"
     ]
    }
   ],
   "source": [
    "n = 1\n",
    "for i in range(1, 6):\n",
    "    n *= 9\n",
    "    print(n)\n",
    "    "
   ]
  },
  {
   "cell_type": "code",
   "execution_count": 28,
   "metadata": {
    "collapsed": false,
    "scrolled": true
   },
   "outputs": [
    {
     "data": {
      "text/plain": [
       "1.2649110640673518"
      ]
     },
     "execution_count": 28,
     "metadata": {},
     "output_type": "execute_result"
    }
   ],
   "source": [
    "math.sqrt(0.4)*2"
   ]
  },
  {
   "cell_type": "code",
   "execution_count": 41,
   "metadata": {
    "collapsed": false
   },
   "outputs": [
    {
     "data": {
      "text/plain": [
       "52.857326658067429"
      ]
     },
     "execution_count": 41,
     "metadata": {},
     "output_type": "execute_result"
    }
   ],
   "source": [
    "from scipy.stats import norm\n",
    "\n",
    "norm.cdf((9800-205*49)/(15*7))\n",
    "\n",
    "norm.cdf((250-240)/20)\n",
    "\n",
    "(norm.cdf(10/8) - 0.5)*2\n",
    "\n",
    "1 - norm.cdf( (571 - 550) / (math.sqrt(11)*10))\n",
    "\n",
    "(norm.ppf(0.995) * math.sqrt(11)*10 + 550 - 54 ) / 11\n"
   ]
  },
  {
   "cell_type": "code",
   "execution_count": 46,
   "metadata": {
    "collapsed": false
   },
   "outputs": [
    {
     "data": {
      "text/plain": [
       "-12.349820250728717"
      ]
     },
     "execution_count": 46,
     "metadata": {},
     "output_type": "execute_result"
    }
   ],
   "source": [
    "(7.8548*11 + 74 - 20 - 550) / (math.sqrt(11)*10)"
   ]
  },
  {
   "cell_type": "code",
   "execution_count": 26,
   "metadata": {
    "collapsed": false
   },
   "outputs": [
    {
     "data": {
      "text/plain": [
       "1.0978677580572653"
      ]
     },
     "execution_count": 26,
     "metadata": {},
     "output_type": "execute_result"
    }
   ],
   "source": [
    "import math \n",
    "\n",
    "math.pow((1100/15), 1.0/(2017-1971))\n"
   ]
  },
  {
   "cell_type": "code",
   "execution_count": 56,
   "metadata": {
    "collapsed": false
   },
   "outputs": [
    {
     "name": "stdout",
     "output_type": "stream",
     "text": [
      "3\n",
      "---\n",
      "---\n",
      "p--\n",
      "DOWN\n",
      "LEFT\n"
     ]
    }
   ],
   "source": [
    "#!/usr/bin/python\n",
    "def displayPathtoPrincess(n,grid):\n",
    "    px = 0 \n",
    "    py = 0\n",
    "    \n",
    "    for x in [0, n-1]:\n",
    "        for y in [0, n-1]:\n",
    "            if 'p' == grid[x][y]: \n",
    "                px = x\n",
    "                py = y\n",
    "    \n",
    "    move_x = 'DOWN'\n",
    "    move_y = 'RIGHT'\n",
    "    \n",
    "    if 0 == px:\n",
    "        move_x = 'UP'\n",
    "    \n",
    "    if 0 == py:\n",
    "        move_y = 'LEFT'\n",
    "        \n",
    "    for i in range(0, (n-1)//2):\n",
    "        print(move_x)\n",
    "        print(move_y)\n",
    "    \n",
    "    #print all the moves here\n",
    "\n",
    "\n",
    "m = int(input())\n",
    "grid = [] \n",
    "for i in range(0, m): \n",
    "    grid.append(input().strip())\n",
    "\n",
    "displayPathtoPrincess(m,grid)\n"
   ]
  },
  {
   "cell_type": "code",
   "execution_count": 68,
   "metadata": {
    "collapsed": false
   },
   "outputs": [
    {
     "name": "stdout",
     "output_type": "stream",
     "text": [
      "15.5\n"
     ]
    }
   ],
   "source": [
    "def mean(lst):\n",
    "    return sum(lst) / len(lst)\n",
    "\n",
    "def std(lst):\n",
    "    mu = mean(lst)\n",
    "    ss = mean([ (x - mu)**2 for x in lst])\n",
    "    return pow(ss, 0.5)\n",
    "\n",
    "lst_P = [15,  12 , 8 ,  8 ,  7  , 7,   7 ,  6  , 5 ,  3]\n",
    "lst_H = [10,  25,  17,  11,  13,  17 , 20 , 13,  9 ,  15]\n",
    "\n",
    "mu_P = mean(lst_P)\n",
    "mu_H = mean(lst_H)\n",
    "\n",
    "cov = mean([(x[0] * x[1]) for x in zip(lst_P, lst_H)]) - mu_P * mu_H\n",
    "sd_P = std(lst_P)\n",
    "sd_H = std(lst_H)\n",
    "\n",
    "slope = cov / (sd_P**2)\n",
    "intercept = mu_H - slope * mu_P \n",
    "\n",
    "prd = 10 * slope + intercept \n",
    "\n",
    "print(\"%.1f\"%prd)\n",
    "\n"
   ]
  },
  {
   "cell_type": "code",
   "execution_count": 84,
   "metadata": {
    "collapsed": false
   },
   "outputs": [
    {
     "data": {
      "text/plain": [
       "0.9275070546502375"
      ]
     },
     "execution_count": 84,
     "metadata": {},
     "output_type": "execute_result"
    }
   ],
   "source": [
    "import random\n",
    "\n",
    "random.random()\n"
   ]
  },
  {
   "cell_type": "code",
   "execution_count": 96,
   "metadata": {
    "collapsed": false
   },
   "outputs": [
    {
     "data": {
      "text/plain": [
       "1"
      ]
     },
     "execution_count": 96,
     "metadata": {},
     "output_type": "execute_result"
    }
   ],
   "source": [
    "s = 'This is good'\n",
    "s.replace('is', '')\n",
    "s\n",
    "\n",
    "[{}] * 2\n",
    "\n",
    "lst = [1,2,2,1]\n",
    "lst.index(max(lst))"
   ]
  },
  {
   "cell_type": "code",
   "execution_count": 86,
   "metadata": {
    "collapsed": false
   },
   "outputs": [
    {
     "data": {
      "text/plain": [
       "{12: 98, 32: 62, 42: 68}"
      ]
     },
     "execution_count": 86,
     "metadata": {},
     "output_type": "execute_result"
    }
   ],
   "source": [
    "lst = [1, 2, 3, 4, 5, 6]\n",
    "dict(np.array(lst).reshape(3,2))\n",
    "\n",
    "s = \"32,62 42,68 12,98\"\n",
    "\n",
    "lst = s.strip().split()\n",
    "lst = {int(x[0]):int(x[1]) for x in [y.strip().split(',') for y in lst]}\n",
    "lst\n"
   ]
  },
  {
   "cell_type": "code",
   "execution_count": 87,
   "metadata": {
    "collapsed": false
   },
   "outputs": [
    {
     "data": {
      "text/plain": [
       "False"
      ]
     },
     "execution_count": 87,
     "metadata": {},
     "output_type": "execute_result"
    }
   ],
   "source": [
    "98 in lst\n"
   ]
  },
  {
   "cell_type": "code",
   "execution_count": 18,
   "metadata": {
    "collapsed": false
   },
   "outputs": [
    {
     "name": "stdout",
     "output_type": "stream",
     "text": [
      "4YES  1\n",
      "4YES  9\n",
      "4YES  99\n",
      "3NO\n",
      "2NO\n",
      "3NO\n",
      "3NO\n",
      "1NO\n"
     ]
    }
   ],
   "source": [
    "import sys\n",
    "\n",
    "def proceed(s, idx1, n):\n",
    "    n2 = n+1\n",
    "    s2 = str(n2)\n",
    "    len2 = len(s2)\n",
    "    if (idx1 + len2 <= len(s)):\n",
    "        if (s2 == s[idx1:(idx1+len2)]):\n",
    "            #print(\"Proceed:\", s, idx1, n, idx1, len2, n2 )\n",
    "            return idx1, len2, n2\n",
    "    \n",
    "    #print(\"Proceed:\", s, idx1, n, idx1, 0, n2 )\n",
    "    return idx1, 0, n2\n",
    "    \n",
    "q = 7\n",
    "lst=[\n",
    "'1234',\n",
    "'91011',\n",
    "'99100',\n",
    "'101103',\n",
    "'010203',\n",
    "'13',\n",
    "'1']\n",
    "\n",
    "for a0 in range(q):\n",
    "    s = lst[a0]\n",
    "    # your code goes here\n",
    "\n",
    "    if len(s) < 2:\n",
    "        print(\"NO\")\n",
    "        continue\n",
    "        \n",
    "    test=False\n",
    "    \n",
    "    for i in range(1, int(len(s)/2)+1):\n",
    "        s1 = s[0:i]\n",
    "        if s1[0] == '0':\n",
    "            print(\"NO\")\n",
    "            break\n",
    "            \n",
    "        n1 = int(s1)\n",
    "        idx1, len2, n2 = proceed(s, i, n1)\n",
    "       \n",
    "        while (len2 > 0 and idx1+len2 < len(s)):\n",
    "            idx1, len2, n2 = proceed(s, idx1+len2, n2)\n",
    "                    \n",
    "        if len2 > 0:\n",
    "            print(\"YES \", n1)\n",
    "            test=True\n",
    "            break\n",
    "    \n",
    "    if not test:\n",
    "        print(\"NO\")\n",
    "    "
   ]
  }
 ],
 "metadata": {
  "kernelspec": {
   "display_name": "Python 3",
   "language": "python",
   "name": "python3"
  },
  "language_info": {
   "codemirror_mode": {
    "name": "ipython",
    "version": 3
   },
   "file_extension": ".py",
   "mimetype": "text/x-python",
   "name": "python",
   "nbconvert_exporter": "python",
   "pygments_lexer": "ipython3",
   "version": "3.5.2"
  }
 },
 "nbformat": 4,
 "nbformat_minor": 0
}
