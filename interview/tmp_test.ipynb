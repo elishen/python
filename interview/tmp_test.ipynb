{
 "cells": [
  {
   "cell_type": "code",
   "execution_count": 26,
   "metadata": {
    "collapsed": false
   },
   "outputs": [
    {
     "data": {
      "text/plain": [
       "1.0978677580572653"
      ]
     },
     "execution_count": 26,
     "metadata": {},
     "output_type": "execute_result"
    }
   ],
   "source": [
    "import math \n",
    "\n",
    "math.pow((1100/15), 1.0/(2017-1971))\n"
   ]
  },
  {
   "cell_type": "code",
   "execution_count": null,
   "metadata": {
    "collapsed": true
   },
   "outputs": [],
   "source": []
  },
  {
   "cell_type": "code",
   "execution_count": null,
   "metadata": {
    "collapsed": true
   },
   "outputs": [],
   "source": []
  },
  {
   "cell_type": "code",
   "execution_count": 20,
   "metadata": {
    "collapsed": false
   },
   "outputs": [
    {
     "data": {
      "text/plain": [
       "(0.3989422804014327+0j)"
      ]
     },
     "execution_count": 20,
     "metadata": {},
     "output_type": "execute_result"
    }
   ],
   "source": [
    "import cmath \n",
    "\n",
    "1/cmath.sqrt(cmath.pi*2)\n",
    "\n"
   ]
  },
  {
   "cell_type": "code",
   "execution_count": 3,
   "metadata": {
    "collapsed": false
   },
   "outputs": [
    {
     "data": {
      "text/plain": [
       "1"
      ]
     },
     "execution_count": 3,
     "metadata": {},
     "output_type": "execute_result"
    }
   ],
   "source": [
    "int('1')"
   ]
  },
  {
   "cell_type": "code",
   "execution_count": 18,
   "metadata": {
    "collapsed": false
   },
   "outputs": [
    {
     "name": "stdout",
     "output_type": "stream",
     "text": [
      "4YES  1\n",
      "4YES  9\n",
      "4YES  99\n",
      "3NO\n",
      "2NO\n",
      "3NO\n",
      "3NO\n",
      "1NO\n"
     ]
    }
   ],
   "source": [
    "import sys\n",
    "\n",
    "def proceed(s, idx1, n):\n",
    "    n2 = n+1\n",
    "    s2 = str(n2)\n",
    "    len2 = len(s2)\n",
    "    if (idx1 + len2 <= len(s)):\n",
    "        if (s2 == s[idx1:(idx1+len2)]):\n",
    "            #print(\"Proceed:\", s, idx1, n, idx1, len2, n2 )\n",
    "            return idx1, len2, n2\n",
    "    \n",
    "    #print(\"Proceed:\", s, idx1, n, idx1, 0, n2 )\n",
    "    return idx1, 0, n2\n",
    "    \n",
    "q = 7\n",
    "lst=[\n",
    "'1234',\n",
    "'91011',\n",
    "'99100',\n",
    "'101103',\n",
    "'010203',\n",
    "'13',\n",
    "'1']\n",
    "\n",
    "for a0 in range(q):\n",
    "    s = lst[a0]\n",
    "    # your code goes here\n",
    "\n",
    "    if len(s) < 2:\n",
    "        print(\"NO\")\n",
    "        continue\n",
    "        \n",
    "    test=False\n",
    "    \n",
    "    for i in range(1, int(len(s)/2)+1):\n",
    "        s1 = s[0:i]\n",
    "        if s1[0] == '0':\n",
    "            print(\"NO\")\n",
    "            break\n",
    "            \n",
    "        n1 = int(s1)\n",
    "        idx1, len2, n2 = proceed(s, i, n1)\n",
    "       \n",
    "        while (len2 > 0 and idx1+len2 < len(s)):\n",
    "            idx1, len2, n2 = proceed(s, idx1+len2, n2)\n",
    "                    \n",
    "        if len2 > 0:\n",
    "            print(\"YES \", n1)\n",
    "            test=True\n",
    "            break\n",
    "    \n",
    "    if not test:\n",
    "        print(\"NO\")\n",
    "    "
   ]
  }
 ],
 "metadata": {
  "kernelspec": {
   "display_name": "Python 3",
   "language": "python",
   "name": "python3"
  },
  "language_info": {
   "codemirror_mode": {
    "name": "ipython",
    "version": 3
   },
   "file_extension": ".py",
   "mimetype": "text/x-python",
   "name": "python",
   "nbconvert_exporter": "python",
   "pygments_lexer": "ipython3",
   "version": "3.5.2"
  }
 },
 "nbformat": 4,
 "nbformat_minor": 0
}
