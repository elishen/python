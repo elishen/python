{
 "cells": [
  {
   "cell_type": "markdown",
   "metadata": {},
   "source": [
    "## Part 1: \n",
    "\n",
    "https://www.programiz.com/python-programming/decorator\n"
   ]
  },
  {
   "cell_type": "markdown",
   "metadata": {},
   "source": [
    "### Functions are objects too"
   ]
  },
  {
   "cell_type": "code",
   "execution_count": 1,
   "metadata": {
    "collapsed": false
   },
   "outputs": [
    {
     "name": "stdout",
     "output_type": "stream",
     "text": [
      "Hello\n",
      "Hello\n"
     ]
    }
   ],
   "source": [
    "def first(msg):\n",
    "    print(msg)    \n",
    "\n",
    "first(\"Hello\")\n",
    "\n",
    "second = first\n",
    "second(\"Hello\")"
   ]
  },
  {
   "cell_type": "markdown",
   "metadata": {},
   "source": [
    "### Higher order functions: taking another function as argument"
   ]
  },
  {
   "cell_type": "code",
   "execution_count": 2,
   "metadata": {
    "collapsed": false
   },
   "outputs": [
    {
     "name": "stdout",
     "output_type": "stream",
     "text": [
      "4\n",
      "2\n"
     ]
    }
   ],
   "source": [
    "def inc(x):\n",
    "    return x + 1\n",
    "\n",
    "def dec(x):\n",
    "    return x - 1\n",
    "\n",
    "def operate(func, x):\n",
    "    result = func(x)\n",
    "    return result\n",
    "\n",
    "print(operate(inc, 3))\n",
    "print(operate(dec, 3))\n"
   ]
  },
  {
   "cell_type": "markdown",
   "metadata": {},
   "source": [
    "### Return another function "
   ]
  },
  {
   "cell_type": "code",
   "execution_count": 4,
   "metadata": {
    "collapsed": false
   },
   "outputs": [
    {
     "name": "stdout",
     "output_type": "stream",
     "text": [
      "Hello\n"
     ]
    }
   ],
   "source": [
    "def is_called():\n",
    "    def is_returned():\n",
    "        print(\"Hello\")\n",
    "    return is_returned\n",
    "\n",
    "new = is_called()\n",
    "\n",
    "#Outputs \"Hello\"\n",
    "new()\n"
   ]
  },
  {
   "cell_type": "markdown",
   "metadata": {},
   "source": [
    "### Callable Objects: \n",
    "\n",
    "In fact, any object which implements the special method __call__() is termed callable. So, in the most basic sense, a decorator is a callable that returns a callable."
   ]
  },
  {
   "cell_type": "code",
   "execution_count": 10,
   "metadata": {
    "collapsed": false
   },
   "outputs": [
    {
     "name": "stdout",
     "output_type": "stream",
     "text": [
      "I am ordinary\n"
     ]
    }
   ],
   "source": [
    "def make_pretty(func):\n",
    "    def inner():\n",
    "        print(\"I got decorated\")\n",
    "        func()\n",
    "    return inner\n",
    "\n",
    "def ordinary():\n",
    "    print(\"I am ordinary\")\n",
    "    \n",
    "ordinary()"
   ]
  },
  {
   "cell_type": "code",
   "execution_count": 7,
   "metadata": {
    "collapsed": false
   },
   "outputs": [
    {
     "name": "stdout",
     "output_type": "stream",
     "text": [
      "I got decorated\n",
      "I am ordinary\n"
     ]
    }
   ],
   "source": [
    "pretty = make_pretty(ordinary)\n",
    "pretty()"
   ]
  },
  {
   "cell_type": "markdown",
   "metadata": {},
   "source": [
    "##### Generally, we decorate a function and reassign it as,"
   ]
  },
  {
   "cell_type": "code",
   "execution_count": 11,
   "metadata": {
    "collapsed": false
   },
   "outputs": [
    {
     "name": "stdout",
     "output_type": "stream",
     "text": [
      "I got decorated\n",
      "I am ordinary\n"
     ]
    }
   ],
   "source": [
    "ordinary = make_pretty(ordinary)\n",
    "ordinary()"
   ]
  },
  {
   "cell_type": "code",
   "execution_count": 12,
   "metadata": {
    "collapsed": false
   },
   "outputs": [
    {
     "name": "stdout",
     "output_type": "stream",
     "text": [
      "I got decorated\n",
      "I am ordinary\n"
     ]
    }
   ],
   "source": [
    "# The following is equivalent to \n",
    "# ordinary = make_pretty(ordinary)\n",
    "\n",
    "@make_pretty\n",
    "def ordinary():\n",
    "    print(\"I am ordinary\")\n",
    "\n",
    "ordinary()"
   ]
  },
  {
   "cell_type": "markdown",
   "metadata": {},
   "source": [
    "### Decorating functions with Parameters"
   ]
  },
  {
   "cell_type": "code",
   "execution_count": 13,
   "metadata": {
    "collapsed": true
   },
   "outputs": [],
   "source": [
    "def smart_divide(func):\n",
    "    def inner(a,b):\n",
    "        print(\"I am going to divide\",a,\"and\",b)\n",
    "        if b == 0:\n",
    "            print(\"Whoops! cannot divide\")\n",
    "            return\n",
    "\n",
    "        return func(a,b)\n",
    "    return inner\n",
    "\n",
    "@smart_divide\n",
    "def divide(a,b):\n",
    "    return a/b"
   ]
  },
  {
   "cell_type": "code",
   "execution_count": 14,
   "metadata": {
    "collapsed": false
   },
   "outputs": [
    {
     "name": "stdout",
     "output_type": "stream",
     "text": [
      "I am going to divide 2 and 5\n"
     ]
    },
    {
     "data": {
      "text/plain": [
       "0.4"
      ]
     },
     "execution_count": 14,
     "metadata": {},
     "output_type": "execute_result"
    }
   ],
   "source": [
    "divide(2,5)"
   ]
  },
  {
   "cell_type": "code",
   "execution_count": 15,
   "metadata": {
    "collapsed": false
   },
   "outputs": [
    {
     "name": "stdout",
     "output_type": "stream",
     "text": [
      "I am going to divide 2 and 0\n",
      "Whoops! cannot divide\n"
     ]
    }
   ],
   "source": [
    "divide(2,0)"
   ]
  },
  {
   "cell_type": "markdown",
   "metadata": {},
   "source": [
    "### Any number of arguments"
   ]
  },
  {
   "cell_type": "code",
   "execution_count": 16,
   "metadata": {
    "collapsed": false
   },
   "outputs": [
    {
     "name": "stdout",
     "output_type": "stream",
     "text": [
      "I can decorate any function\n",
      "1 2 3 4\n"
     ]
    }
   ],
   "source": [
    "def works_for_all(func):\n",
    "    def inner(*args, **kwargs):\n",
    "        print(\"I can decorate any function\")\n",
    "        return func(*args, **kwargs)\n",
    "    return inner\n",
    "\n",
    "# args will be the tuple of positional arguments \n",
    "# kwargs will the dictionary of keyword arguments \n",
    "\n",
    "@works_for_all\n",
    "def test_print(a, b, c, d):\n",
    "    print(a, b, c, d)\n",
    "\n",
    "test_print(1, 2, 3, 4)"
   ]
  },
  {
   "cell_type": "code",
   "execution_count": 17,
   "metadata": {
    "collapsed": false
   },
   "outputs": [
    {
     "name": "stdout",
     "output_type": "stream",
     "text": [
      "I can decorate any function\n",
      "1 2 3 4 5\n"
     ]
    }
   ],
   "source": [
    "@works_for_all\n",
    "def test_print5(a, b, c, d, e):\n",
    "    print(a, b, c, d, e)\n",
    "\n",
    "test_print5(1, 2, 3, 4, 5)"
   ]
  },
  {
   "cell_type": "markdown",
   "metadata": {},
   "source": [
    "### Chaining "
   ]
  },
  {
   "cell_type": "code",
   "execution_count": 18,
   "metadata": {
    "collapsed": false
   },
   "outputs": [
    {
     "name": "stdout",
     "output_type": "stream",
     "text": [
      "******************************\n",
      "%%%%%%%%%%%%%%%%%%%%%%%%%%%%%%\n",
      "Hello\n",
      "%%%%%%%%%%%%%%%%%%%%%%%%%%%%%%\n",
      "******************************\n"
     ]
    }
   ],
   "source": [
    "def star(func):\n",
    "    def inner(*args, **kwargs):\n",
    "        print(\"*\" * 30)\n",
    "        func(*args, **kwargs)\n",
    "        print(\"*\" * 30)\n",
    "    return inner\n",
    "\n",
    "def percent(func):\n",
    "    def inner(*args, **kwargs):\n",
    "        print(\"%\" * 30)\n",
    "        func(*args, **kwargs)\n",
    "        print(\"%\" * 30)\n",
    "    return inner\n",
    "\n",
    "@star\n",
    "@percent\n",
    "def printer(msg):\n",
    "    print(msg)\n",
    "printer(\"Hello\")"
   ]
  },
  {
   "cell_type": "markdown",
   "metadata": {},
   "source": [
    "@percent\n",
    "@star\n",
    "def printer(msg):\n",
    "    print(msg)\n",
    "printer(\"Hello\")"
   ]
  },
  {
   "cell_type": "code",
   "execution_count": null,
   "metadata": {
    "collapsed": true
   },
   "outputs": [],
   "source": []
  },
  {
   "cell_type": "code",
   "execution_count": 21,
   "metadata": {
    "collapsed": true
   },
   "outputs": [],
   "source": [
    "def p_decorate(func):\n",
    "    def func_wrapper(name):\n",
    "        return \"<p>{0}</p>\".format(func(name))\n",
    "    return func_wrapper\n",
    "\n",
    "def strong_decorate(func):\n",
    "    def func_wrapper(name):\n",
    "        return \"<strong>{0}</strong>\".format(func(name))\n",
    "    return func_wrapper\n",
    "\n",
    "def div_decorate(func):\n",
    "    def func_wrapper(name):\n",
    "        return \"<div>{0}</div>\".format(func(name))\n",
    "    return func_wrapper"
   ]
  },
  {
   "cell_type": "code",
   "execution_count": 22,
   "metadata": {
    "collapsed": false
   },
   "outputs": [
    {
     "name": "stdout",
     "output_type": "stream",
     "text": [
      "<div><p><strong>lorem ipsum, John dolor sit amet</strong></p></div>\n"
     ]
    }
   ],
   "source": [
    "@div_decorate\n",
    "@p_decorate\n",
    "@strong_decorate\n",
    "def get_text(name):\n",
    "    return \"lorem ipsum, {0} dolor sit amet\".format(name)\n",
    "\n",
    "print(get_text(\"John\"))\n",
    "\n"
   ]
  },
  {
   "cell_type": "markdown",
   "metadata": {},
   "source": [
    "##### func.__name__"
   ]
  },
  {
   "cell_type": "code",
   "execution_count": 27,
   "metadata": {
    "collapsed": false
   },
   "outputs": [
    {
     "name": "stdout",
     "output_type": "stream",
     "text": [
      "inside foobar\n",
      "(['hello, world'],) {'foo': 2, 'bar': 5}\n",
      "Method Name - foobar, Args - (['hello, world'],), Kwargs - {'foo': 2, 'bar': 5}, Execution Time - 0.30524611473083496\n"
     ]
    }
   ],
   "source": [
    "import time\n",
    "\n",
    "def timetest(input_func):\n",
    "\n",
    "    def timed(*args, **kwargs):\n",
    "\n",
    "        start_time = time.time()\n",
    "        result = input_func(*args, **kwargs)\n",
    "        end_time = time.time()\n",
    "        print(\"Method Name - {0}, Args - {1}, Kwargs - {2}, Execution Time - {3}\".format(\n",
    "            input_func.__name__,\n",
    "            args,\n",
    "            kwargs,\n",
    "            end_time - start_time\n",
    "        ))\n",
    "        \n",
    "        return result\n",
    "    return timed\n",
    "\n",
    "\n",
    "@timetest\n",
    "def foobar(*args, **kwargs):\n",
    "    time.sleep(0.3)\n",
    "    print(\"inside foobar\")\n",
    "    print(args, kwargs)\n",
    "\n",
    "foobar([\"hello, world\"], foo=2, bar=5)\n"
   ]
  },
  {
   "cell_type": "markdown",
   "metadata": {},
   "source": [
    "### Class Decorators"
   ]
  },
  {
   "cell_type": "code",
   "execution_count": 28,
   "metadata": {
    "collapsed": false
   },
   "outputs": [
    {
     "name": "stdout",
     "output_type": "stream",
     "text": [
      "decorator initialised\n",
      "class\n",
      "decorator terminated\n"
     ]
    }
   ],
   "source": [
    "class decoclass(object):\n",
    "\n",
    "    def __init__(self, f):\n",
    "        self.f = f\n",
    "\n",
    "    def __call__(self, *args, **kwargs):\n",
    "        # before f actions\n",
    "        print ('decorator initialised')\n",
    "        self.f(*args, **kwargs)\n",
    "        print( 'decorator terminated')\n",
    "        # after f actions\n",
    "\n",
    "@decoclass\n",
    "def klass():\n",
    "    print ('class')\n",
    "\n",
    "klass()"
   ]
  },
  {
   "cell_type": "markdown",
   "metadata": {},
   "source": [
    "Remarks: The following example shows that the decorated function is actually replaced by the inner_function "
   ]
  },
  {
   "cell_type": "code",
   "execution_count": 30,
   "metadata": {
    "collapsed": false
   },
   "outputs": [],
   "source": [
    "def decorator(func):\n",
    "    \"\"\"decorator docstring\"\"\"\n",
    "    def inner_function(*args, **kwargs):\n",
    "        \"\"\"inner function docstring \"\"\"\n",
    "        print (func.__name__ + \"was called\")\n",
    "        return func(*args, **kwargs)\n",
    "    return inner_function\n",
    "\n",
    "\n",
    "@decorator\n",
    "def foobar(x):\n",
    "    \"\"\"foobar docstring\"\"\"\n",
    "    return x**2"
   ]
  },
  {
   "cell_type": "code",
   "execution_count": 31,
   "metadata": {
    "collapsed": false
   },
   "outputs": [
    {
     "name": "stdout",
     "output_type": "stream",
     "text": [
      "inner_function\n",
      "inner function docstring \n"
     ]
    }
   ],
   "source": [
    "print (foobar.__name__)\n",
    "print (foobar.__doc__)"
   ]
  },
  {
   "cell_type": "markdown",
   "metadata": {
    "collapsed": true
   },
   "source": [
    "Remarks: The original function after decoration is replaced. **Wraps** helps to keep the original function information. "
   ]
  },
  {
   "cell_type": "code",
   "execution_count": 32,
   "metadata": {
    "collapsed": false
   },
   "outputs": [
    {
     "name": "stdout",
     "output_type": "stream",
     "text": [
      "foobar\n",
      "foobar docstring\n"
     ]
    }
   ],
   "source": [
    "from functools import wraps\n",
    "\n",
    "def wrapped_decorator(func):\n",
    "    \"\"\"wrapped decorator docstring\"\"\"\n",
    "    @wraps(func)\n",
    "    def inner_function(*args, **kwargs):\n",
    "        \"\"\"inner function docstring \"\"\"\n",
    "        print (func.__name__ + \"was called\")\n",
    "        return func(*args, **kwargs)\n",
    "    return inner_function\n",
    "\n",
    "\n",
    "@wrapped_decorator\n",
    "def foobar(x):\n",
    "    \"\"\"foobar docstring\"\"\"\n",
    "    return x**2\n",
    "\n",
    "print (foobar.__name__)\n",
    "print (foobar.__doc__)\n"
   ]
  },
  {
   "cell_type": "code",
   "execution_count": 35,
   "metadata": {
    "collapsed": false
   },
   "outputs": [
    {
     "name": "stdout",
     "output_type": "stream",
     "text": [
      "foobarwas called\n"
     ]
    },
    {
     "data": {
      "text/plain": [
       "9"
      ]
     },
     "execution_count": 35,
     "metadata": {},
     "output_type": "execute_result"
    }
   ],
   "source": [
    "foobar(3)"
   ]
  },
  {
   "cell_type": "markdown",
   "metadata": {},
   "source": [
    "### Decorators with argumetns "
   ]
  },
  {
   "cell_type": "code",
   "execution_count": 40,
   "metadata": {
    "collapsed": false
   },
   "outputs": [
    {
     "name": "stdout",
     "output_type": "stream",
     "text": [
      "Arguements passed to decorator arg1 and arg2\n",
      "1\n",
      "2\n",
      "3\n",
      "None\n"
     ]
    }
   ],
   "source": [
    "from functools import wraps\n",
    "\n",
    "def decorator(arg1, arg2):\n",
    "    def inner_function(function):\n",
    "        @wraps(function)\n",
    "        def wrapper(*args, **kwargs):\n",
    "            print (\"Arguements passed to decorator %s and %s\" % (arg1, arg2))\n",
    "            function(*args, **kwargs)\n",
    "        return wrapper\n",
    "    return inner_function\n",
    "\n",
    "\n",
    "@decorator(\"arg1\", \"arg2\")\n",
    "def print_args(*args):\n",
    "    for arg in args:\n",
    "        print (arg)\n",
    "\n",
    "print (print_args(1, 2, 3))"
   ]
  },
  {
   "cell_type": "markdown",
   "metadata": {},
   "source": [
    "##  5 Reasons to use Decorators"
   ]
  },
  {
   "cell_type": "markdown",
   "metadata": {},
   "source": [
    "### 1. Loggings"
   ]
  },
  {
   "cell_type": "code",
   "execution_count": 44,
   "metadata": {
    "collapsed": false
   },
   "outputs": [
    {
     "name": "stdout",
     "output_type": "stream",
     "text": [
      "Pizza ordered:\n",
      "Pineapple\n",
      "Ham\n"
     ]
    },
    {
     "data": {
      "text/plain": [
       "2"
      ]
     },
     "execution_count": 44,
     "metadata": {},
     "output_type": "execute_result"
    }
   ],
   "source": [
    "import logging\n",
    "\n",
    "logging.basicConfig(filename='decorated.log', level=logging.DEBUG,\n",
    "                    format='(%(threadName)-9s) %(message)s',)\n",
    "\n",
    "def log_order_event(func):\n",
    "    def wrapper(*args, **kwargs):\n",
    "        logging.info(\"Ordering: %s\", func.__name__)\n",
    "        order = func(*args, **kwargs)\n",
    "        logging.debug(\"Order result: %s\", order)\n",
    "        return order\n",
    "    return wrapper\n",
    "\n",
    "@log_order_event\n",
    "def order_pizza(*toppings):\n",
    "    # let's get some pizza!\n",
    "    print(\"Pizza ordered:\")\n",
    "    for topping in toppings:\n",
    "        print(topping)\n",
    "    return len(toppings)\n",
    "\n",
    "order_pizza(\"Pineapple\", \"Ham\")"
   ]
  },
  {
   "cell_type": "markdown",
   "metadata": {},
   "source": [
    "### 2. Validation and Runtime Checks"
   ]
  },
  {
   "cell_type": "code",
   "execution_count": null,
   "metadata": {
    "collapsed": true
   },
   "outputs": [],
   "source": [
    "def validate_summary(func):\n",
    "    def wrapper(*args, **kwargs):\n",
    "        data = func(*args, **kwargs)\n",
    "        if len(data[\"summary\"]) > 80:\n",
    "            raise ValueError(\"Summary too long\")\n",
    "        return data\n",
    "    return wrapper\n",
    "\n",
    "@validate_summary\n",
    "def fetch_customer_data():\n",
    "    # ...\n",
    "\n",
    "@validate_summary\n",
    "def query_orders(criteria):\n",
    "    # ...\n",
    "\n",
    "@validate_summary\n",
    "def create_invoice(params):\n",
    "    # ..."
   ]
  },
  {
   "cell_type": "markdown",
   "metadata": {},
   "source": [
    "### 3. Creating frameworks\n",
    "\n",
    "Example flask "
   ]
  },
  {
   "cell_type": "code",
   "execution_count": null,
   "metadata": {
    "collapsed": true
   },
   "outputs": [],
   "source": [
    "# For a RESTful todo-list API.\n",
    "@app.route(\"/tasks/\", methods=[\"GET\"])\n",
    "def get_all_tasks():\n",
    "    tasks = app.store.get_all_tasks()\n",
    "    return make_response(json.dumps(tasks), 200)\n",
    "\n",
    "@app.route(\"/tasks/\", methods=[\"POST\"])\n",
    "def create_task():\n",
    "    payload = request.get_json(force=True)\n",
    "    task_id = app.store.create_task(\n",
    "        summary = payload[\"summary\"],\n",
    "        description = payload[\"description\"],\n",
    "    )\n",
    "    task_info = {\"id\": task_id}\n",
    "    return make_response(json.dumps(task_info), 201)\n",
    "\n",
    "@app.route(\"/tasks/<int:task_id>/\")\n",
    "def task_details(task_id):\n",
    "    task_info = app.store.task_details(task_id)\n",
    "    if task_info is None:\n",
    "        return make_response(\"\", 404)\n",
    "    return json.dumps(task_info)\n",
    "\n"
   ]
  },
  {
   "cell_type": "code",
   "execution_count": null,
   "metadata": {
    "collapsed": true
   },
   "outputs": [],
   "source": []
  },
  {
   "cell_type": "code",
   "execution_count": null,
   "metadata": {
    "collapsed": true
   },
   "outputs": [],
   "source": []
  }
 ],
 "metadata": {
  "kernelspec": {
   "display_name": "Python 3",
   "language": "python",
   "name": "python3"
  },
  "language_info": {
   "codemirror_mode": {
    "name": "ipython",
    "version": 3
   },
   "file_extension": ".py",
   "mimetype": "text/x-python",
   "name": "python",
   "nbconvert_exporter": "python",
   "pygments_lexer": "ipython3",
   "version": "3.5.2"
  }
 },
 "nbformat": 4,
 "nbformat_minor": 0
}
